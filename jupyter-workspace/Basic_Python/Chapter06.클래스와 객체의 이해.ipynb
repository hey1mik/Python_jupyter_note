{
 "cells": [
  {
   "cell_type": "markdown",
   "metadata": {},
   "source": [
    "### 학습 목표\n",
    "1. 클래스와 오브젝트에 대한 이해"
   ]
  },
  {
   "cell_type": "markdown",
   "metadata": {},
   "source": [
    "#### **class란?**\n",
    "+ 실세계의 것을 모델링하여 속성(attribute)와 동작(method)를 갖는 데이터 타입 : 속성(변수), 동작(메서드)\n",
    "+ python에서의 string, int, list, dict .. 모두가 다 클래스로 존재\n",
    "+ 학생 type을 사용하고 싶은데 기본적으로 프로그래밍 언어에서 제공하는 type에는 내 입맛에 맞는 타입이 존재하지 않음. 고로 내가 class를 사용하여 직접 학생 type을 정의해서 사용하는 것\n",
    "+ 예를 들어 학생이라는 클래스를 만든다면, 학생을 나타내는 속성과 삭생이 행하는 행동을 함께 정의할수 있음\n",
    "+ 따라서, 다루고자 하는 데이터(변수)와 데이터를 다루는 연산(함수)를 하나로 캡슐화(encapsulation)하여 클래스로 표현\n",
    "+ 모델링에서 중요시 하는 속성에 따라 클래스의 속성과 행동이 각각 달라짐"
   ]
  },
  {
   "cell_type": "code",
   "execution_count": 1,
   "metadata": {},
   "outputs": [
    {
     "name": "stdout",
     "output_type": "stream",
     "text": [
      "[1, 2, 3, 4, 5]\n"
     ]
    }
   ],
   "source": [
    "a = [1,2,3,4]\n",
    "a.append(5)\n",
    "print(a)"
   ]
  },
  {
   "cell_type": "markdown",
   "metadata": {},
   "source": [
    "## **object란?**\n",
    "- 클래스로 생성되어 구체화된 객체(인스턴스)\n",
    "- 파이썬의 모든 것(int, str, list...etc)은 객체(인스턴스)\n",
    "- 실제로 class가 인스턴스화 되어 메모리에 상주하는 상태를 의미\n",
    "- class가 빵틀이라면, object는 실제로 빵틀로 찍어낸 빵이라고 비유 가능"
   ]
  },
  {
   "cell_type": "markdown",
   "metadata": {},
   "source": [
    "#### **객체사용 3단계**\n",
    "1. Class 설계\n",
    "```python\n",
    "class Test:\n",
    "    def resultPrint(name):\n",
    "        print(name)\n",
    "```\n",
    "2. 객체생성(인스턴스)\n",
    "```python\n",
    "test = Test()\n",
    "```\n",
    "\n",
    "3. 인스턴스 사용\n",
    "``` python\n",
    "test.resultPrint('초롱')\n",
    "```"
   ]
  },
  {
   "cell_type": "markdown",
   "metadata": {},
   "source": [
    "#### Class로 만든 객체를 인스턴스라고 한다. 그렇다면 인스턴스의 차이는 무엇일까?\n",
    "- a = Cookie() 이렇게 만든 a는 객체이다. 그리고 a 객체는 Cookie의 인스턴스이다.\n",
    "- 즉 인스턴스라는 말은 특정 객체(a)가 어떤 클래스(Cookie)의 객체인지를 관계 위주로 설명할 때 사용한다.\n",
    "- 'a는 인스턴스' 보다는 '**a는 객체**'라는 표현이 어울린다.\n",
    "- 'a는 Cookie의 객체'보다는 '**a는 Cookie의 인스턴스**'라는 표현이 훨씬 잘 어울린다."
   ]
  },
  {
   "cell_type": "markdown",
   "metadata": {},
   "source": [
    "#### **class 선언하기**\n",
    "- 객체를 생성하기 위해선 객체의 모체가 되는 class를 미리 선언해야함"
   ]
  },
  {
   "cell_type": "code",
   "execution_count": 8,
   "metadata": {},
   "outputs": [],
   "source": [
    "class Person:\n",
    "    pass\n",
    "\n",
    "#파이썬의 특징! 코드 블록을 만들었는데 안에 아무것도 안 채우고 넘어갈거라면 반드시 안에 pass를 써주어야한다"
   ]
  },
  {
   "cell_type": "code",
   "execution_count": 5,
   "metadata": {},
   "outputs": [
    {
     "data": {
      "text/plain": [
       "'초롱'"
      ]
     },
     "execution_count": 5,
     "metadata": {},
     "output_type": "execute_result"
    }
   ],
   "source": [
    "class Test:\n",
    "    def __init__(self):\n",
    "        self.name = '초롱'\n",
    "\n",
    "test = Test()\n",
    "test.name # 객체변수 접근 가능"
   ]
  },
  {
   "cell_type": "code",
   "execution_count": 9,
   "metadata": {},
   "outputs": [
    {
     "name": "stdout",
     "output_type": "stream",
     "text": [
      "<class '__main__.Person'> <class '__main__.Person'>\n",
      "<class 'list'> <class 'list'>\n"
     ]
    }
   ],
   "source": [
    "bob = Person()\n",
    "cathy = Person()\n",
    "\n",
    "a = list()\n",
    "b = list()\n",
    "\n",
    "print(type(bob), type(cathy))\n",
    "print(type(a), type(b))"
   ]
  },
  {
   "cell_type": "markdown",
   "metadata": {},
   "source": [
    "#### \\_\\_init__(self) : 생성자()\n",
    "+ 생성자, 클래스 인스턴스가 생성될 때 호출됨(객체 생성시)\n",
    "+ self인자는 항상 첫번째에 오며 자기 자신을 가리킴\n",
    "+ 이름이 꼭 self일 필요는 없지만, 관례적으로 self로 사용\n",
    "\n",
    "+ 생성자에서는 해당 클래스가 다루는 데이터를 정의\n",
    "    - 이 데이터를 멤버 변수(member variale) 또는 속성(attribute)라고 함\n",
    "+ 객체생성시 변수초기화나, 메서드 실행 등을 할 때 사용(self.메서드명())\n",
    "+ 상속받았을 때 부모 Class의 메서드도 사용 가능\n",
    "+ JAVA와는 달리 메서드 오버로딩 기능 없음(2개의 생성자가 있다면 매개변수가 있는 것으로만 작동됨)\n"
   ]
  },
  {
   "cell_type": "markdown",
   "metadata": {},
   "source": [
    "```python\n",
    "class Person:\n",
    "    def __init__(self):\n",
    "        print(self, 'is generated') # 생성자는 객체 생성시 동작할 작업(변수 초기화 및 메서드 실행)을 정의\n",
    "        self.name = 'Kate'\n",
    "        self.age = 10\n",
    "        #self.printName()\n",
    "        \n",
    "    def printNmae(self):\n",
    "        print('테스트에요!!')\n",
    "\n",
    "p1 = Person()\n",
    "p2 = Person()\n",
    "\n",
    "p1.name = 'aaron'\n",
    "p1.age = 20\n",
    "\n",
    "print(p1.name, p1.age)\n",
    "\n",
    "```\n",
    "\n",
    "\n",
    "##*this라는 말이 의미하는 것은 객체 생성해서 만들어진 '인스턴스'를 말하는 것이다.\n",
    "Person p1 = new Person();\n",
    "이라고 했을 때, 여기서 this는 Person클래스를 말하는게 아니라,\n",
    "Person으로부터 나온 p1을 의미하는 것임!!\n",
    "\n",
    "##*하나 더. 기본 생성자 는 클래스를 만드는 동시에 만들어지는데, 단 조건이 생성자가 클래스 내에 하나도 없을 때만 만들어지는 것!\n",
    "클래스 내에 생성자 메서드가 있으면, 굳이 만들지 않는다. \n",
    "\n",
    "##* Class Person{\n",
    "    String name = \"혜원\";\n",
    "    \n",
    "    public Person(String name){   <= 이런식으로!!!! 생성자 메서드가 있으면!!! 기본 생성자 안만들어줌!!! 그래서 XXDTO에서 @NoArgs랑 @AllArgs랑 둘다 임포트 하는 것!!!!!!!!\n",
    "        this.lname = name;\n",
    "    }\n",
    "    \n",
    "    \n",
    "}"
   ]
  },
  {
   "cell_type": "code",
   "execution_count": 16,
   "metadata": {},
   "outputs": [
    {
     "name": "stdout",
     "output_type": "stream",
     "text": [
      "<__main__.Person object at 0x0000023A7D196C08> is generated\n",
      "테스트에요!!\n",
      "<__main__.Person object at 0x0000023A7D196C48> is generated\n",
      "테스트에요!!\n",
      "Kate 10\n"
     ]
    }
   ],
   "source": [
    "class Person:\n",
    "    gender = 'female' #파이썬에서는 클래스 바로 밑에 있는 애가!!! 클래스변수!!!!!(인스턴스들이 공유하는 것) 자바와 차이.(자바에선 전역변수)\n",
    "    def __init__(self):\n",
    "        print(self, 'is generated') # 생성자는 객체 생성시 동작할 작업(변수 초기화 및 메서드 실행)을 정의\n",
    "        self.name = 'Kate' #인스턴스 변수. self가 붙은 걸 인스턴스 변수라고 함! \n",
    "        self.age = 10 #인스턴스 변수. \n",
    "        self.printName()\n",
    "\n",
    "\n",
    "    def printName(self):\n",
    "        print('테스트에요!!')\n",
    "\n",
    "p1 = Person() \n",
    "p2 = Person()\n",
    "\n",
    "#p1.name = 'aaron'\n",
    "#p1.age = 20\n",
    "\n",
    "print(p1.name, p1.age)\n",
    "\n"
   ]
  },
  {
   "cell_type": "code",
   "execution_count": 21,
   "metadata": {},
   "outputs": [
    {
     "name": "stdout",
     "output_type": "stream",
     "text": [
      "Bob 30\n",
      "Kate 20\n",
      "Aaron 10\n",
      "cherry\n"
     ]
    }
   ],
   "source": [
    "class Person:\n",
    "    name = 'cherry' #=> 클래스 변수\n",
    "    def __init__(self, name, age = 10): # age는 10이라고 default값이 정해져있음.\n",
    "        #print(self, 'is generated')\n",
    "        self.name = name #인스턴스 변수. 한번 지워보세요. 지우면 클래스변수의 효과를 알 수 있게 돼요\n",
    "        self.age = age # 인스턴스 변수\n",
    "p1 = Person('Bob', 30)\n",
    "p2 = Person('Kate', 20)\n",
    "p3 = Person('Aaron')\n",
    "\n",
    "print(p1.name, p1.age) #pq.name, p1.age == (p1.name, p1.age) : Tuple Type(괄호 생략 가능)\n",
    "print(p2.name, p2.age)\n",
    "print(p3.name, p3.age) #객체변수 호출\n",
    "print(Person.name) #클래스 변수 호출 "
   ]
  },
  {
   "cell_type": "markdown",
   "metadata": {},
   "source": [
    "#### \\_\\_del__(self): 소멸자()\n",
    "+ method이므로 첫 번째 인자는 self로 설정\n",
    "+ 클래스 소멸시 호출"
   ]
  },
  {
   "cell_type": "code",
   "execution_count": 46,
   "metadata": {},
   "outputs": [],
   "source": [
    "class Quadrangle:\n",
    "    def __init__(self, width, height, color):\n",
    "        self.width = width\n",
    "        self.height = height\n",
    "        self.color = color\n",
    "        \n",
    "    def __del__(self):\n",
    "        print(\"Quadrangle object is deleted\")\n",
    "        \n",
    "square = Quadrangle(30,20,'red')"
   ]
  },
  {
   "cell_type": "code",
   "execution_count": 47,
   "metadata": {},
   "outputs": [
    {
     "data": {
      "text/plain": [
       "<__main__.Quadrangle at 0x23a7d22ee88>"
      ]
     },
     "execution_count": 47,
     "metadata": {},
     "output_type": "execute_result"
    }
   ],
   "source": [
    "square"
   ]
  },
  {
   "cell_type": "code",
   "execution_count": 44,
   "metadata": {},
   "outputs": [],
   "source": [
    "del square"
   ]
  },
  {
   "cell_type": "markdown",
   "metadata": {},
   "source": [
    "#### **self**\n",
    "- 파이썬의 method는 Class 내부에서 사용 될 때는 항상 **첫 번째 인자**로 self를 전달(Java의 this와 동일)\n",
    "- self는 현재 해당 메서드가 호출되는 객체 자신을 가리킴(인스턴스 자체)\n",
    "- C++/C#, Java의 this에 해당\n",
    "- 역시, 이름이 self일 필요는 없으나, 위치는 항상 맨 처음의 parameter이며 관례적으로 self로 사용\n",
    "- self, attribute명은 사용 불가 (self는 객체를 나타냄)"
   ]
  },
  {
   "cell_type": "code",
   "execution_count": 49,
   "metadata": {},
   "outputs": [
    {
     "name": "stdout",
     "output_type": "stream",
     "text": [
      "self:  <__main__.Person object at 0x0000023A7D237BC8>\n",
      "self:  <__main__.Person object at 0x0000023A7D237C08>\n",
      "<__main__.Person object at 0x0000023A7D237BC8>\n",
      "<__main__.Person object at 0x0000023A7D237C08>\n",
      "self:  <__main__.Person object at 0x0000023A7D237BC8>\n",
      "Aaron 은 잠을 잡니다.\n",
      "self:  <__main__.Person object at 0x0000023A7D237C08>\n",
      "Bob 은 잠을 잡니다.\n"
     ]
    }
   ],
   "source": [
    "class Person:\n",
    "    def __init__(self, name, age):\n",
    "        print('self: ', self)\n",
    "        self.name = name\n",
    "        self.age = age\n",
    "    \n",
    "    def sleep(self):\n",
    "        print('self: ', self)\n",
    "        print(self.name, '은 잠을 잡니다.')\n",
    "        \n",
    "# 생성자에서 출력한 self 값과 a or b의 값과 같음, 즉 self는 인스턴스(객체)를 가리킴\n",
    "# a = Person(a, 'Aaron', 20) self는 인스턴스 a를 항상 메서드 호출시 첫번쨰 매개변수로 받는 것과 동일\n",
    "a = Person('Aaron', 20)\n",
    "b = Person('Bob', 30)\n",
    "\n",
    "print(a)\n",
    "print(b)\n",
    "\n",
    "a.sleep()\n",
    "b.sleep()"
   ]
  },
  {
   "cell_type": "markdown",
   "metadata": {},
   "source": [
    "- self. **으로 변수 호출하면 해당 객체(인스턴스)의 객체 변수를 뜻함(전역변수, 클래스변수와 다름)\n",
    "\n",
    "```python\n",
    "class TestCase:\n",
    "    name = '초롱'\n",
    "    age = '31'\n",
    "    \n",
    "    def __init__(self, name, age):\n",
    "        print('self: ', self)\n",
    "        print(t.name, t.age)\n",
    "        \n",
    "t = TestCase('체리', 5)\n",
    "print(t.anme, t.age)\n",
    "```"
   ]
  },
  {
   "cell_type": "markdown",
   "metadata": {},
   "source": [
    "#### **method 정의**\n",
    "\n",
    "+ 멤버함수라고도 하며, 해당 클래스와 object에서만 호출 가능\n",
    "+ 메쏘드는 객체 레벨에서 호출되며, 해다 ㅇ객체의 속성에 대한 연산을 행함\n",
    "+ {obj}, {method}() 형태로 호출됨"
   ]
  },
  {
   "cell_type": "code",
   "execution_count": 52,
   "metadata": {},
   "outputs": [
    {
     "name": "stdout",
     "output_type": "stream",
     "text": [
      "현재값은:  0\n",
      "현재값은:  3\n",
      "현재값은:  1\n"
     ]
    }
   ],
   "source": [
    "#1. 숫자를 하나 증가\n",
    "#2. 숫자를 0으로 초기화\n",
    "class Counter:\n",
    "    def __init__(self):\n",
    "        self.num = 0\n",
    "       \n",
    "    def increment(self):\n",
    "        self.num += 1\n",
    "        \n",
    "    def reset(self):\n",
    "        self.num = 0\n",
    "        \n",
    "    def print_current_value(self):\n",
    "        print('현재값은: ', self.num)\n",
    "        \n",
    "c1 = Counter()\n",
    "c1.print_current_value()\n",
    "c1.increment()\n",
    "c1.increment()\n",
    "c1.increment()\n",
    "c1.print_current_value()\n",
    "\n",
    "c2 = Counter()\n",
    "c2.increment()\n",
    "c2.print_current_value()"
   ]
  },
  {
   "cell_type": "markdown",
   "metadata": {},
   "source": [
    "#### 객체를 통한 메서드 호출"
   ]
  },
  {
   "cell_type": "code",
   "execution_count": 53,
   "metadata": {},
   "outputs": [
    {
     "name": "stdout",
     "output_type": "stream",
     "text": [
      "현재값은:  0\n",
      "현재값은:  0\n"
     ]
    }
   ],
   "source": [
    "c3 = Counter()\n",
    "Counter.print_current_value(c3) #잘 사용하지 않음\n",
    "c3.print_current_value() #자주 사용됨"
   ]
  },
  {
   "cell_type": "markdown",
   "metadata": {},
   "source": [
    "#### Class로 객체를 생성하면 생성된 인스턴스는 각각 독립적으로 작동"
   ]
  },
  {
   "cell_type": "code",
   "execution_count": 54,
   "metadata": {},
   "outputs": [
    {
     "name": "stdout",
     "output_type": "stream",
     "text": [
      "t1:  140708170342800\n",
      "t2:  140708170342864\n"
     ]
    }
   ],
   "source": [
    "class TestCase:\n",
    "    def setdata(self, first, second):\n",
    "        self.first = first\n",
    "        self.second = second\n",
    "        \n",
    "t1 = TestCase()\n",
    "t2 = TestCase()\n",
    "t1.setdata(1, 2)\n",
    "t2.setdata(3, 4)\n",
    "\n",
    "# id()는 객체의 주소를 돌려주는 내장 함수\n",
    "print('t1: ', id(t1.first))\n",
    "print('t2: ', id(t2.first))"
   ]
  },
  {
   "cell_type": "markdown",
   "metadata": {},
   "source": [
    "#### **method type**\n",
    "- instance method - 객체로 호출\n",
    "    - 메서드는 객체 레벨로 호출되기 때문에, 해당 메서드를 호출한 객체에만 영향을 미침\n",
    "- static method = clas로 호출\n",
    "    - 클래스 메서드의 경우, 클래스 레벨로 호출되기 때문에, 클래스 멤버 변수만 변경 가능\n",
    "    - self 사용 불가 (즉, 내부적으로 전역변수에 접근이 필요 없는 경우 사용)\n",
    "    - 객체 속서에 접근 불가(self를 사용하지 못하기 때문)\n",
    "    - 객체생성 없이 사용 가능\n",
    "    - 메서드 생성시 @staticmethod를 위에 붙여야함\n",
    "    - 클래스명, 정적메서드명, 객체명, 정적메서드명 둘 다 호출 가능\n",
    "\n",
    "``` python\n",
    "    @staticmethod\n",
    "    def printName(name):\n",
    "        print(name, '입니다.')\n",
    "```\n",
    "\n",
    "- class method\n",
    "    1. 해당 class 안에서 호출(해당 클래스로 만들어진 객체에서 호출되지 않고, 직접 클래스 자체에서 호출)\n",
    "    2. self대신 cls를 매개변수로 사용\n",
    "    3. 클래스 변수 접근 가능, cls. 클래스변수명으로 액세스 가능, 객체 속성/메서드는 접근 불가\n",
    "    4. 클래스 메서드는 메서드 앞에 @classmethod를 붙여야함\n",
    "    5. 클래스명, 클래스 메서드명, 객체명, 클래스 메서드명 둘 다 호출 가능\n",
    "    "
   ]
  },
  {
   "cell_type": "code",
   "execution_count": 56,
   "metadata": {},
   "outputs": [
    {
     "data": {
      "text/plain": [
       "200"
      ]
     },
     "execution_count": 56,
     "metadata": {},
     "output_type": "execute_result"
    }
   ],
   "source": [
    "class Math:\n",
    "    count = 0 #클래스 변수\n",
    "    \n",
    "    @staticmethod\n",
    "    def add(a,b):\n",
    "        return a + b\n",
    "\n",
    "    @staticmethod\n",
    "    def multiply(a,b):\n",
    "        return a * b\n",
    "    \n",
    "Math.add(10,20)\n",
    "Math.multiply(10,20)"
   ]
  },
  {
   "cell_type": "code",
   "execution_count": 59,
   "metadata": {},
   "outputs": [
    {
     "name": "stdout",
     "output_type": "stream",
     "text": [
      "2\n",
      "2\n",
      "2\n"
     ]
    }
   ],
   "source": [
    "class Figure1:\n",
    "    count = 0 #클래스 변수\n",
    "    \n",
    "    # 생성자(initializer)\n",
    "    def __init__(self, width, height):\n",
    "        #self.* : 인스턴스 변수\n",
    "        self.width = width\n",
    "        self.height = height\n",
    "        #클래스 변수 접근 예\n",
    "        Figure1.count += 1\n",
    "        \n",
    "    # 메서드\n",
    "    def calc_area(self):\n",
    "        return self.width * self.height\n",
    "    \n",
    "    # 클래스 메서드\n",
    "    @classmethod\n",
    "    def print_count(cls):\n",
    "        return cls.count\n",
    "    \n",
    "figure1 = Figure1(2,3)\n",
    "figure2 = Figure1(4,5)\n",
    "print(Figure1.count)\n",
    "print(Figure1.print_count()) #2\n",
    "print(Figure1.print_count()) #2"
   ]
  },
  {
   "cell_type": "markdown",
   "metadata": {},
   "source": [
    "#### **Class Inheritance(상속)**\n",
    "- 기존에 정의해둔 클래스의 기능을 그대로 물려받을 수 있따.\n",
    "- 기존 클래스에 기능 일부를 추가하거나, 변경하여 새로운 클래스를 정의한다.\n",
    "- 코드를 재사용할 수 있게 된다.\n",
    "- 상속 받고자 하는 대상인 기존 클래스는 (Parent, Super, Base class라고 부른다.)\n",
    "- 상속 받는 새로운 클래스는(Child, Sub, Derived class 라고 부른다.)\n",
    "- 의미적으로 is-1관계를 갇는다.(ex: Employee is a Person / Student is a Person)\n",
    "- 부모의 멤버변수는 상속받음(객체변수는 상속 불가능)\n",
    "- 부모의 생성자를 통해서 마늗ㄹ어지는 객체 변수는 접근 불가능\n",
    "- 생성자는 상속받지 못함\n",
    "- Python은 다중상속 가능() 안에 상속받을 클래스를 ,로 나열하면 됨"
   ]
  },
  {
   "cell_type": "code",
   "execution_count": 60,
   "metadata": {},
   "outputs": [
    {
     "name": "stdout",
     "output_type": "stream",
     "text": [
      "부모\n",
      "부모\n"
     ]
    }
   ],
   "source": [
    "class Parent:\n",
    "    name = '부모'\n",
    "    \n",
    "    def __init__(self, name2):\n",
    "        selfnmae2 = name2\n",
    "\n",
    "class Child(Parent):\n",
    "    def __init__(self):\n",
    "        print(Parent.name) # 가능\n",
    "        print(super().name) # 가능\n",
    "        #print(super().name2) #불가능(부모의 객체변수는 접근 불가)\n",
    "        #print(name) #불가능\n",
    "ch = Child()"
   ]
  },
  {
   "cell_type": "code",
   "execution_count": 61,
   "metadata": {},
   "outputs": [
    {
     "name": "stdout",
     "output_type": "stream",
     "text": [
      "Bob은 BBQ를 먹습니다.\n",
      "Bob은 30분 동안 잡니다.\n",
      "Bob은 60분동안 일합니다.\n"
     ]
    }
   ],
   "source": [
    "class Person:\n",
    "    def __init__(self, name, age):\n",
    "        self.name = name\n",
    "        self.age = age\n",
    "        \n",
    "    def eat(self, food):\n",
    "        print('{}은 {}를 먹습니다.'.format(self.name, food))\n",
    "        \n",
    "    def sleep(self, minute):\n",
    "        print('{}은 {}분 동안 잡니다.'.format(self.name, minute))\n",
    "        \n",
    "    def work(self, minute):\n",
    "        print('{}은 {}분동안 일합니다.'.format(self.name, minute))\n",
    "    \n",
    "class Student(Person):\n",
    "    def __init__(self, name, age):\n",
    "        self.name = name\n",
    "        self.age = age\n",
    "\n",
    "class Employee(Person):\n",
    "    def __init__(self, name, age):\n",
    "        self.name =name\n",
    "        self.age = age\n",
    "\n",
    "bob = Employee('Bob', 25)\n",
    "bob.eat('BBQ')\n",
    "bob.sleep(30)\n",
    "bob.work(60)"
   ]
  },
  {
   "cell_type": "markdown",
   "metadata": {},
   "source": [
    "#### method override\n",
    " - 부모 클래스의 method를 재정의(override)\n",
    " - 하위 클래스(자식클래스)의 인스턴스로 호출시, 재정의된 메소드가 호출됨"
   ]
  },
  {
   "cell_type": "code",
   "execution_count": 62,
   "metadata": {},
   "outputs": [
    {
     "name": "stdout",
     "output_type": "stream",
     "text": [
      "Bob은 BBQ를 먹습니다.\n",
      "Bob은 30분 동안 잡니다.\n",
      "Bob은 60분동안 일합니다.\n"
     ]
    }
   ],
   "source": [
    "class Person:\n",
    "    def __init__(self, name, age):\n",
    "        self.name = name\n",
    "        self.age = age\n",
    "        \n",
    "    def eat(self, food):\n",
    "        print('{}은 {}를 먹습니다.'.format(self.name, food))\n",
    "        \n",
    "    def sleep(self, minute):\n",
    "        print('{}은 {}분동안 잡니다.'.format(self.name, minute))\n",
    "    \n",
    "    def work(self, minute):\n",
    "        print('{}은 {}분동안 일합니다.'.format(self.name, minute))\n",
    "        \n",
    "class Student(Person):\n",
    "    def __init__(self, name, age):\n",
    "        self.name = name\n",
    "        self.age = age\n",
    "        \n",
    "    def work(self, minute): # 메서드 오버라이딩\n",
    "        print('{}은 {}분 동안 공부합니다.'.format(self.name, minute))\n",
    "        \n",
    "class Student(Person):\n",
    "    def __init__(self, name, age):\n",
    "        self.name = name\n",
    "        self.age = age\n",
    "        \n",
    "    def work(self, minute): #메서드 오버라이딩\n",
    "        print('{}은 {}분동안 업무를 합니다.'.format(self.name, minute))\n",
    "        \n",
    "bob = Employee('Bob', 25)\n",
    "bob.eat('BBQ')\n",
    "bob.sleep(30)\n",
    "bob.work(60)"
   ]
  },
  {
   "cell_type": "markdown",
   "metadata": {},
   "source": [
    "#### super\n",
    " - 하위클래스(자식 클래스)에서 부모클래스의 method를 호출할 때 사용\n",
    " - Java의 Super, This == Python의 Super, Self"
   ]
  },
  {
   "cell_type": "code",
   "execution_count": 1,
   "metadata": {},
   "outputs": [
    {
     "name": "stdout",
     "output_type": "stream",
     "text": [
      "Bob은 BBQ를 먹습니다.\n",
      "Bob은 30분동안 준비를 합니다.\n",
      "Bob은 60분 동안 준비를 합니다.\n",
      "Bob은 60분동안 업무를 합니다.\n",
      "123\n"
     ]
    }
   ],
   "source": [
    "class Person:\n",
    "    test = 123\n",
    "    def __init__(self, name, age):\n",
    "        self.name = name\n",
    "        self.age = age\n",
    "        \n",
    "    def eat(self, food):\n",
    "        print('{}은 {}를 먹습니다.'.format(self.name, food))\n",
    "        \n",
    "    def sleep(self, minute):\n",
    "        print('{}은 {}분동안 준비를 합니다.'.format(self.name, minute))\n",
    "    \n",
    "    def work(self, minute):\n",
    "        print('{}은 {}분 동안 준비를 합니다.'.format(self.name, minute))\n",
    "        \n",
    "class Student(Person):\n",
    "    def __init__(self, name, age):\n",
    "        self.name = name\n",
    "        self.age = age\n",
    "        \n",
    "    def work(self, minute):\n",
    "        super().work(minute)\n",
    "        print('{}은 {}분동안 공부합니다.'.format(self.name, minute))\n",
    "        \n",
    "class Employee(Person):\n",
    "    def __init__(self, name, age):\n",
    "        self.name = name\n",
    "        self.age = age\n",
    "        # suepr().work(age) 가능\n",
    "        \n",
    "    def work(self, minute):\n",
    "        # print(super.test) Class 내에서는 부모 멤버변수 접근 불가능\n",
    "        super().work(minute)\n",
    "        print('{}은 {}분동안 업무를 합니다.'.format(self.name, minute))\n",
    "        \n",
    "bob = Employee('Bob',25)\n",
    "bob.eat('BBQ')\n",
    "bob.sleep(30)\n",
    "bob.work(60)\n",
    "print(bob.test) # 부모의 멤버변수 접근 가능(부모 생성자에서 선언하는 변수는 접근 불가능)"
   ]
  },
  {
   "cell_type": "markdown",
   "metadata": {},
   "source": [
    "#### **immutable 변수와 mutable 변수** (얘가 좀 중요!!!)\n",
    "- Python Tutorial mutable 변수를 잘못 사용하면 surprising effect를 경험할 수 있다.(문제점)\n",
    "- immutable 변수\n",
    " - 숫자타입(numbers): 정수타입(int), 실수타입(float), 복소수타입(complex)\n",
    " - 문자열타입(string)\n",
    " - 튜플타입(tuple)\n",
    " - 불변세트타입(frozenset)\n",
    " - 바이트타입(bytes)\n",
    "- mutable 변수\n",
    " - 리스트타입(list)\n",
    " - 딕셔너리타입(dict)\n",
    " - 세트타입(set)\n",
    " - 바이트배열타입(byte array)\n",
    "\n",
    "※ 값을 자주 바꿔야하는 데이터가 있다고 가정해보자. 만약 변할 수 없는 데이터타입의 값을 빈번하게 바꾸면 객체가 계속 생성될 것이다. 이는 프로그램이 사용하는 메모리를 과하게 사용하는 원인이 되기도 한다. 실제로 실무현장에서 이 문제로 장애가 발생하는 경우도 많다. 이럴 때 변할 수 있는 데이터 타입을 사용하면 객체를 새로 생성하지 않아도 되며, 메모리 누수를 방지하면서 메모리 사용 효율을 올릴 수 있다. 이러한 작은 차이가 수준 높은 프로그래밍을 하는데 큰 영향을 미치니 참고하기 바란다."
   ]
  },
  {
   "cell_type": "code",
   "execution_count": 65,
   "metadata": {},
   "outputs": [
    {
     "data": {
      "text/plain": [
       "2450230766000"
      ]
     },
     "execution_count": 65,
     "metadata": {},
     "output_type": "execute_result"
    }
   ],
   "source": [
    "# 문자열 값 덧붙이기\n",
    "abcde_str = 'abcd'\n",
    "id(abcde_str)"
   ]
  },
  {
   "cell_type": "code",
   "execution_count": 66,
   "metadata": {},
   "outputs": [
    {
     "data": {
      "text/plain": [
       "'abcde'"
      ]
     },
     "execution_count": 66,
     "metadata": {},
     "output_type": "execute_result"
    }
   ],
   "source": [
    "abcde_str + 'e' # 변수에 담지 않았기 때문에 새로운 'abcde'라는 객체가 생성됐음"
   ]
  },
  {
   "cell_type": "code",
   "execution_count": 67,
   "metadata": {},
   "outputs": [
    {
     "data": {
      "text/plain": [
       "'abcd'"
      ]
     },
     "execution_count": 67,
     "metadata": {},
     "output_type": "execute_result"
    }
   ],
   "source": [
    "abcde_str # 값 변경 x, 왜냐하면 'e'를 추가하고 다시 변수에 담지 않았음"
   ]
  },
  {
   "cell_type": "code",
   "execution_count": 68,
   "metadata": {},
   "outputs": [
    {
     "data": {
      "text/plain": [
       "2450230766000"
      ]
     },
     "execution_count": 68,
     "metadata": {},
     "output_type": "execute_result"
    }
   ],
   "source": [
    "id(abcde_str)"
   ]
  },
  {
   "cell_type": "code",
   "execution_count": 69,
   "metadata": {},
   "outputs": [
    {
     "name": "stdout",
     "output_type": "stream",
     "text": [
      "abcde\n"
     ]
    },
    {
     "data": {
      "text/plain": [
       "2450230869232"
      ]
     },
     "execution_count": 69,
     "metadata": {},
     "output_type": "execute_result"
    }
   ],
   "source": [
    "abcde_str = abcde_str + 'e'\n",
    "print(abcde_str) # 값 변경\n",
    "id(abcde_str)    # 객체 변경(문자열은 immutable 변수: 한번 값이 들어가면 값 변경 불가, 새로 만들어줘야함)"
   ]
  },
  {
   "cell_type": "code",
   "execution_count": 70,
   "metadata": {},
   "outputs": [
    {
     "data": {
      "text/plain": [
       "2450230730568"
      ]
     },
     "execution_count": 70,
     "metadata": {},
     "output_type": "execute_result"
    }
   ],
   "source": [
    "# 리스트 값 덧붙이기\n",
    "abcde_list = ['a', 'b', 'c', 'd']\n",
    "id(abcde_list)"
   ]
  },
  {
   "cell_type": "code",
   "execution_count": 71,
   "metadata": {},
   "outputs": [],
   "source": [
    "abcde_list.append('e')"
   ]
  },
  {
   "cell_type": "code",
   "execution_count": 72,
   "metadata": {},
   "outputs": [
    {
     "data": {
      "text/plain": [
       "['a', 'b', 'c', 'd', 'e']"
      ]
     },
     "execution_count": 72,
     "metadata": {},
     "output_type": "execute_result"
    }
   ],
   "source": [
    "abcde_list # 값 변경 됨"
   ]
  },
  {
   "cell_type": "code",
   "execution_count": 73,
   "metadata": {},
   "outputs": [
    {
     "data": {
      "text/plain": [
       "2450230730568"
      ]
     },
     "execution_count": 73,
     "metadata": {},
     "output_type": "execute_result"
    }
   ],
   "source": [
    "id(abcde_list) # 객체 변경 안됨(list는 mutable 변수: 값변경 가능)"
   ]
  },
  {
   "cell_type": "markdown",
   "metadata": {},
   "source": [
    "#### 변수들의 종류(객체변수, 클래스변수, 지역변수, 전역변수)\n",
    "- 전역변수: class에 포함되지 않고 선언한 변수\n",
    "- 지역변수: 메서드나 if문 등 블록 내에 선언된 변수\n",
    "- 클래스변수: 클래스 상단에 선언된 변수(객체생성해도 클래스변수는 공유)\n",
    "        공유하는 상수값등을 쓸 때 사용\n",
    "        mutable변수는 여러 인스턴스에서 클래스변수를 공유함\n",
    "        immutable변수는 여러 인스턴스에서 값을 변경했을 때 클래스변수를 공유하지 못함(객체가 새로 생성되기 때문)\n",
    "        \n",
    "- 객체변수: 객체를 생성해서 고유한 객체에서만 사용하는 변수"
   ]
  },
  {
   "cell_type": "code",
   "execution_count": 3,
   "metadata": {},
   "outputs": [
    {
     "name": "stdout",
     "output_type": "stream",
     "text": [
      "체리\n",
      "체리\n",
      "체리\n",
      "전역변수\n"
     ]
    }
   ],
   "source": [
    "all = '전역변수' #자바에서는 가장 큰 단위가 class이기때문에 class에 속해있는 변수를 전역변수라고 하는데, 파이썬은 아님.\n",
    "                #어디에도 속해있지 않은 변수를 전역변수라고 한다. \n",
    "\n",
    "class VarKind:\n",
    "    name = '체리' # 클래스변수\n",
    "          \n",
    "    def var_print(self, name, age):\n",
    "        # 매개변수로 받은 name과 age는 지역변수\n",
    "        self.name = name  # self.name = 객체변수(인스턴스의 독립적인 변수.)\n",
    "        self.age = age\n",
    "        print(age, '세', name, '입니다')\n",
    "    \n",
    "vk1 = VarKind()\n",
    "vk2 = VarKind()\n",
    "print(VarKind.name) # 클래스변수 호출\n",
    "print(vk1.name) # 객체변수 호출(__init__(self, name) 생성자로 self.name = name을 대입하면 vk1.name은 값이 변경)\n",
    "print(vk2.name) # 객체변수 호출(self로 값을 대입하지 않았다면 클래스변수가 호출)\n",
    "print(all)"
   ]
  },
  {
   "cell_type": "markdown",
   "metadata": {},
   "source": [
    "#### 클래스변수(class)와 객체변수(instance) 심화\n",
    "- 클래스변수: 클래스에 의해 생성된 모든 객체가 같은 값을 조회할 때 사용하는 변수\n",
    "- 인스턴스변수: 인스턴스화 될 때마다 새로운 값이 할당되며 서로 다른 객체 간에는 값을 공유할 수 없는 변수(객체 단위로 값이 따로 관리되는 변수는 반드시 인스턴스 변수 사용)\n",
    "- 클래스 변수는 객체 이름이 아닌 클래스 이름으로 접근, 되도록 값이 변경되지 않는 경우에 사용하는 것이 안전하다!"
   ]
  },
  {
   "cell_type": "code",
   "execution_count": 75,
   "metadata": {},
   "outputs": [
    {
     "name": "stdout",
     "output_type": "stream",
     "text": [
      "Cholong Choi\n",
      "['Python', 'Java']\n"
     ]
    }
   ],
   "source": [
    "# Programmer 클래스 정의\n",
    "class Programmer:\n",
    "    languages = []                  # 클래스 변수 선언\n",
    "    def __init__(self, name):       # 초기화 함수 재정의\n",
    "        self.name = name            # 인스턴스 변수 선언 및 초기화\n",
    "    def add_lang(self, lang):\n",
    "        self.languages.append(lang) # 클래스 변수 값 변경\n",
    "        \n",
    "choi = Programmer('Cholong Choi')\n",
    "choi.add_lang('Python')\n",
    "choi.add_lang('Java')\n",
    "print(choi.name)\n",
    "print(choi.languages)"
   ]
  },
  {
   "cell_type": "code",
   "execution_count": 76,
   "metadata": {},
   "outputs": [
    {
     "name": "stdout",
     "output_type": "stream",
     "text": [
      "Cherry Choi\n",
      "['Python', 'Java']\n"
     ]
    }
   ],
   "source": [
    "cherry = Programmer('Cherry Choi')\n",
    "# 언어 추가 X\n",
    "print(cherry.name)\n",
    "print(cherry.languages)\n",
    "# cherry 객체에는 언어를 추가하지 않았지만 choi에서 추가한 언어가 출력됨\n",
    "# languages를 Class변수로 생성했기 때문"
   ]
  },
  {
   "cell_type": "code",
   "execution_count": 77,
   "metadata": {},
   "outputs": [
    {
     "name": "stdout",
     "output_type": "stream",
     "text": [
      "Cholong Choi\n",
      "['Python', 'Java']\n",
      "Cherry Choi\n",
      "[]\n"
     ]
    }
   ],
   "source": [
    "# languages를 클래스변수에서 인스턴스 변수로 변경하면 언어를 추가하지 않은 cherry 객체에서는 그대로 빈 값이 출력됨\n",
    "class Programmer:\n",
    "    def __init__(self, name):       # 초기화 함수 재정의\n",
    "        self.name = name            # 인스턴스 변수 선언 및 초기화\n",
    "        self.languages = []         # 인스턴스 변수 선언 및 초기화\n",
    "    def add_lang(self, lang):\n",
    "        self.languages.append(lang) # 클래스 변수 값 변경\n",
    "        \n",
    "choi = Programmer('Cholong Choi')\n",
    "choi.add_lang('Python')\n",
    "choi.add_lang('Java')\n",
    "print(choi.name)\n",
    "print(choi.languages)\n",
    "\n",
    "cherry = Programmer('Cherry Choi')\n",
    "# 언어 추가 X\n",
    "print(cherry.name)\n",
    "print(cherry.languages)"
   ]
  },
  {
   "cell_type": "code",
   "execution_count": 78,
   "metadata": {},
   "outputs": [],
   "source": [
    "# BookReader 클래스 정의\n",
    "class BookReader:\n",
    "    country = 'South Korea'             # 클래스 변수 country 선언\n",
    "    def __init__(self, name):           # 초기화 함수 재정의\n",
    "        self.name = name                # 인스턴스 변수 name 선언\n",
    "    def read_book(self):\n",
    "        print(self.name, 'is reading in', self.country)"
   ]
  },
  {
   "cell_type": "code",
   "execution_count": 79,
   "metadata": {},
   "outputs": [
    {
     "name": "stdout",
     "output_type": "stream",
     "text": [
      "Chris Cho is reading in South Korea\n",
      "Anna Cho is reading in South Korea\n"
     ]
    }
   ],
   "source": [
    "chris = BookReader('Chris Cho')\n",
    "anna = BookReader('Anna Cho')\n",
    "chris.read_book()\n",
    "anna.read_book()"
   ]
  },
  {
   "cell_type": "code",
   "execution_count": 80,
   "metadata": {},
   "outputs": [
    {
     "name": "stdout",
     "output_type": "stream",
     "text": [
      "Chris Cho is reading in U.S.A\n",
      "Anna Cho is reading in South Korea\n"
     ]
    }
   ],
   "source": [
    "chris.country = 'U.S.A'\n",
    "chris.read_book()\n",
    "anna.read_book() # 클래스변수를 변경했음에도 anna는 값이 변경 되지 않음\n",
    "                 # immutable 객체의 값을 변경하니, 객체가 바뀌어 버린 경우"
   ]
  },
  {
   "cell_type": "code",
   "execution_count": 81,
   "metadata": {},
   "outputs": [
    {
     "name": "stdout",
     "output_type": "stream",
     "text": [
      "Chris Cho is reading in U.S.A\n",
      "Anna Cho is reading in Italy\n",
      "Sean Cho is reading in Italy\n"
     ]
    }
   ],
   "source": [
    "BookReader.country = 'Italy'\n",
    "chris.read_book()\n",
    "anna.read_book()\n",
    "\n",
    "sean = BookReader('Sean Cho')\n",
    "sean.read_book()\n",
    "# immutable 클래스 변수 값을 변경하여 객체가 교체되면, 변경 전에 생성된 객체의 클래스 변수는 낙동강 오리알 신세가 된다."
   ]
  },
  {
   "cell_type": "markdown",
   "metadata": {},
   "source": [
    "**클래스 변수에 변할 수 없는 데이터 타입(예: 문자열타입)을 쓰는 경우에도 새로 변경한 값을 다른 객체가 공유할 수 있나요?**\n",
    "\n",
    "'공유할 수 없다'다. 변할 수 없는 데이터 타입은 변경을 시도하는 순간 새로운 객체가 생성된다. 이 객체는 변수를 가지고 있는 객체 내에서만 접근이 된다. 위 예제의 reaider1.country의 값을 변경한 뒤 reader2.country 값을 확인해 보면 쉽게 이해할 수 있을 것이다. 즉, 클래스 변수는 인스턴스화 하는 시점에 같은 값을 내려받을 때 사용한다고 보면 된다."
   ]
  },
  {
   "cell_type": "markdown",
   "metadata": {},
   "source": [
    "#### global vs local vs nonlocal\n",
    "- nonlocal: 지역변수가 아닌데 전역변수도 아닌 변수(지역변수들 중 상위 지역변수)"
   ]
  },
  {
   "cell_type": "code",
   "execution_count": 7,
   "metadata": {},
   "outputs": [
    {
     "name": "stdout",
     "output_type": "stream",
     "text": [
      "local spam\n",
      "After local assignment: test spam\n",
      "After nonlocal assignment: nonlocal spam\n",
      "After global assignment: nonlocal spam\n",
      "In global scope: global spam\n"
     ]
    }
   ],
   "source": [
    "# 다음에 코드는 좋지않은 코드, 전역변수 spam이 선언되지 않은채 생성되기 때문\n",
    "# 예시를 위해 작성한 코드, 실제 사용은 자제\n",
    "# Global > Nonlocal > Local\n",
    "def scope_test():\n",
    "    def do_local(): #여기서밖에 못씀\n",
    "        spam = 'local spam'\n",
    "        print(spam)\n",
    "    \n",
    "    def do_nonlocal():\n",
    "        nonlocal spam # 전역도 지역도 아닌 가운데 변수\n",
    "        spam = 'nonlocal spam'\n",
    "        \n",
    "    def do_global():\n",
    "        global spam\n",
    "        spam = 'global spam'\n",
    "        \n",
    "    spam = 'test spam' #얘도 non local!!\n",
    "    \n",
    "    do_local()\n",
    "    print('After local assignment:', spam)\n",
    "    do_nonlocal()\n",
    "    print('After nonlocal assignment:', spam)\n",
    "    do_global()\n",
    "    print('After global assignment:', spam)\n",
    "\n",
    "scope_test()\n",
    "print('In global scope:', spam)"
   ]
  },
  {
   "cell_type": "markdown",
   "metadata": {},
   "source": [
    "- 위와같은 문제 때문에 PEP8: Style Guide를 확인해야함\n",
    "- python은 Java와는 달리 문법적으로 모두 해결하지 않고, style guide를 통해 개발자들끼리 약속을 통해서 코드를 작성하게 함.\n",
    "- 예로 java에서는 private이 존재하지만 python에서는 변수앞에 _를 붙이면 private으로 인식하는것이지(코드적으로 private 효과를 주지 않음)\n",
    "\n",
    "- https://www.python.org/dev/peps/pep-0008/ (pep8 Style Guide)\n",
    "- https://google.github.io/styleguide/pyguide.html#3164-guidelines-derived-from-guidos-recommendations (Google Style Guide)\n",
    "\n",
    "- 어떤 변수를 써야 할 지 애매하다면, 유효 범위가 좁은 변수(인스턴스, 로컬)를 사용하는 것이 안전하다.\n",
    "- 변수를 내부용으로 강제하고 싶다면, 변수 이름을 언더스코어(_)로 시작하자.\n",
    "- 글로벌 변수 사용은 가능하면 피하자\n",
    "- 파이썬 코딩 스타일 가이드(PEP 8)를 꼭 따르자\n",
    "\n"
   ]
  },
  {
   "cell_type": "markdown",
   "metadata": {},
   "source": [
    "#### 파이썬 변수 제대로 사용하기(private)\n",
    "- 파이썬은 클래스 내부의 변수를 외부에서 사용하는 것을 막고 싶을 때 인트선스 변수명을 private으로 선언\n",
    "- _변수명 = JAVA의 private 변수타입 변수명; 과 같음"
   ]
  },
  {
   "cell_type": "code",
   "execution_count": 12,
   "metadata": {},
   "outputs": [],
   "source": [
    "# 내부용 변수 이름은 언더스코어(_)로 시작\n",
    "# 상수는 대문자로 표기\n",
    "# 클래스 변수 접근은 객체(self)가 아닌, 클래스 이름으로 접근\n",
    "class SKBookReader:\n",
    "    _COUNTRY = 'South Korea' # 클래스 내부적으로 사용할 때는 _변수명 사용하기(private)\n",
    "    def __init__(self, name):\n",
    "        self.name = name\n",
    "    def read_book(self):\n",
    "        print(self.name, 'is reading in', SKBookReader._COUNTRY)"
   ]
  },
  {
   "cell_type": "code",
   "execution_count": 13,
   "metadata": {},
   "outputs": [
    {
     "name": "stdout",
     "output_type": "stream",
     "text": [
      "최초롱 is reading in South Korea\n"
     ]
    },
    {
     "data": {
      "text/plain": [
       "'South Korea'"
      ]
     },
     "execution_count": 13,
     "metadata": {},
     "output_type": "execute_result"
    }
   ],
   "source": [
    "ccw = SKBookReader('최초롱')\n",
    "ccw.name\n",
    "ccw.read_book()\n",
    "ccw._COUNTRY"
   ]
  },
  {
   "cell_type": "code",
   "execution_count": 14,
   "metadata": {},
   "outputs": [
    {
     "name": "stdout",
     "output_type": "stream",
     "text": [
      "최초롱 is reading in South Korea\n"
     ]
    }
   ],
   "source": [
    "ccw._COUNTRY = 'U.K'\n",
    "ccw.read_book()"
   ]
  },
  {
   "cell_type": "code",
   "execution_count": 15,
   "metadata": {},
   "outputs": [
    {
     "name": "stdout",
     "output_type": "stream",
     "text": [
      "최초롱 is reading in South Korea\n"
     ]
    }
   ],
   "source": [
    "ccw._COUNTRY = 'U.K'\n",
    "ccw.read_book()"
   ]
  },
  {
   "cell_type": "markdown",
   "metadata": {},
   "source": [
    "#### **getter와 setter**\n",
    "- 클래스 외부에서 직접 private 변수에 접근이 불가능하기 때문에 getter와 setter를 이용해서만 접근 가능"
   ]
  },
  {
   "cell_type": "code",
   "execution_count": 17,
   "metadata": {},
   "outputs": [
    {
     "name": "stdout",
     "output_type": "stream",
     "text": [
      "# 원의 둘레와 넓이를 구한다\n",
      "원의 둘레: 62.83185307179586\n",
      "원의 넓이: 314.1592653589793\n",
      "\n",
      "# __radius에 접근한다.\n",
      "10\n",
      "\n",
      "# 반지름을 변경하고 원의 둘레와 넓이를 구한다\n",
      "원의 둘레: 12.566370614359172\n",
      "원의 넓이: 12.566370614359172\n"
     ]
    }
   ],
   "source": [
    "# getter_setter.py\n",
    "import math\n",
    "\n",
    "# 클래스 선언\n",
    "class Circle:\n",
    "    def __init__(self, radius):\n",
    "        self.__radius = radius # pirvate 변수 선언\n",
    "    def get_circumference(self):\n",
    "        return 2 * math.pi * self.__radius\n",
    "    def get_area(self):\n",
    "        return math.pi * (self.__radius ** 2)\n",
    "    \n",
    "# 게터와 세터 선언\n",
    "    def get_radius(self):\n",
    "        return self.__radius\n",
    "    def set_radius(self, value):\n",
    "        self.__radius = value\n",
    "        \n",
    "# 원의 둘레와 넓이를 구한다\n",
    "circle = Circle(10)\n",
    "print('# 원의 둘레와 넓이를 구한다')\n",
    "print('원의 둘레:', circle.get_circumference())\n",
    "print('원의 넓이:', circle.get_area())\n",
    "print()\n",
    "\n",
    "# 간접적으로 __radius에 접근\n",
    "print('# __radius에 접근한다.')\n",
    "print(circle.get_radius())\n",
    "print()\n",
    "\n",
    "# 원의 둘레와 넓이를 구한다\n",
    "circle.set_radius(2)\n",
    "print('# 반지름을 변경하고 원의 둘레와 넓이를 구한다')\n",
    "print('원의 둘레:', circle.get_circumference())\n",
    "print('원의 넓이:', circle.get_area())"
   ]
  },
  {
   "cell_type": "markdown",
   "metadata": {},
   "source": [
    "#### **@(데코레이터)를 사용한 게터와 세터**\n",
    "- @property\n",
    "- @<변수이름>.setter\n",
    "- 데코레이터를 사용하면 자동적으로 circle.radius만 해도 게터와 세터가 호출되게 가능\n"
   ]
  },
  {
   "cell_type": "code",
   "execution_count": 19,
   "metadata": {},
   "outputs": [
    {
     "name": "stdout",
     "output_type": "stream",
     "text": [
      "# 데코레이터를 사용한 Getter와 Setter\n",
      "원래 원의 반지름: 10\n",
      "변경된 원의 반지름: 2\n",
      "\n",
      "# 강제로 예외를 발생시킨다.\n"
     ]
    },
    {
     "ename": "TypeError",
     "evalue": "길이는 양의 숫자여야 합니다.",
     "output_type": "error",
     "traceback": [
      "\u001b[1;31m---------------------------------------------------------------------------\u001b[0m",
      "\u001b[1;31mTypeError\u001b[0m                                 Traceback (most recent call last)",
      "\u001b[1;32m<ipython-input-19-88515762813d>\u001b[0m in \u001b[0;36m<module>\u001b[1;34m\u001b[0m\n\u001b[0;32m     28\u001b[0m \u001b[1;31m# 강제로 예외를 발생\u001b[0m\u001b[1;33m\u001b[0m\u001b[1;33m\u001b[0m\u001b[1;33m\u001b[0m\u001b[0m\n\u001b[0;32m     29\u001b[0m \u001b[0mprint\u001b[0m\u001b[1;33m(\u001b[0m\u001b[1;34m'# 강제로 예외를 발생시킨다.'\u001b[0m\u001b[1;33m)\u001b[0m\u001b[1;33m\u001b[0m\u001b[1;33m\u001b[0m\u001b[0m\n\u001b[1;32m---> 30\u001b[1;33m \u001b[0mcircle\u001b[0m\u001b[1;33m.\u001b[0m\u001b[0mradius\u001b[0m \u001b[1;33m=\u001b[0m \u001b[1;33m-\u001b[0m\u001b[1;36m10\u001b[0m\u001b[1;33m\u001b[0m\u001b[1;33m\u001b[0m\u001b[0m\n\u001b[0m",
      "\u001b[1;32m<ipython-input-19-88515762813d>\u001b[0m in \u001b[0;36mradius\u001b[1;34m(self, value)\u001b[0m\n\u001b[0;32m     15\u001b[0m     \u001b[1;32mdef\u001b[0m \u001b[0mradius\u001b[0m\u001b[1;33m(\u001b[0m\u001b[0mself\u001b[0m\u001b[1;33m,\u001b[0m \u001b[0mvalue\u001b[0m\u001b[1;33m)\u001b[0m\u001b[1;33m:\u001b[0m\u001b[1;33m\u001b[0m\u001b[1;33m\u001b[0m\u001b[0m\n\u001b[0;32m     16\u001b[0m         \u001b[1;32mif\u001b[0m \u001b[0mvalue\u001b[0m \u001b[1;33m<=\u001b[0m \u001b[1;36m0\u001b[0m\u001b[1;33m:\u001b[0m\u001b[1;33m\u001b[0m\u001b[1;33m\u001b[0m\u001b[0m\n\u001b[1;32m---> 17\u001b[1;33m             \u001b[1;32mraise\u001b[0m \u001b[0mTypeError\u001b[0m\u001b[1;33m(\u001b[0m\u001b[1;34m'길이는 양의 숫자여야 합니다.'\u001b[0m\u001b[1;33m)\u001b[0m \u001b[1;31m# 강제로예외 발생\u001b[0m\u001b[1;33m\u001b[0m\u001b[1;33m\u001b[0m\u001b[0m\n\u001b[0m\u001b[0;32m     18\u001b[0m         \u001b[0mself\u001b[0m\u001b[1;33m.\u001b[0m\u001b[0m__radius\u001b[0m \u001b[1;33m=\u001b[0m \u001b[0mvalue\u001b[0m\u001b[1;33m\u001b[0m\u001b[1;33m\u001b[0m\u001b[0m\n\u001b[0;32m     19\u001b[0m \u001b[1;33m\u001b[0m\u001b[0m\n",
      "\u001b[1;31mTypeError\u001b[0m: 길이는 양의 숫자여야 합니다."
     ]
    }
   ],
   "source": [
    "import math\n",
    "\n",
    "class Circle:\n",
    "    def __init__(self, radius):\n",
    "        self.__radius = radius # pirvate 변수 선언\n",
    "    def get_circumference(self):\n",
    "        return 2 * math.pi * self.__radius\n",
    "    def get_area(self):\n",
    "        return math.pi * (self.__radius ** 2)\n",
    "    # 게터와 세터 선언\n",
    "    @property\n",
    "    def radius(self):\n",
    "        return self.__radius\n",
    "    @radius.setter\n",
    "    def radius(self, value):\n",
    "        if value <= 0:\n",
    "            raise TypeError('길이는 양의 숫자여야 합니다.') # 강제로예외 발생\n",
    "        self.__radius = value\n",
    "        \n",
    "# 원의 둘레와 넓이를 구한다.\n",
    "print('# 데코레이터를 사용한 Getter와 Setter')\n",
    "circle = Circle(10)\n",
    "print('원래 원의 반지름:', circle.radius)\n",
    "circle.radius = 2\n",
    "print('변경된 원의 반지름:', circle.radius)\n",
    "print()\n",
    "\n",
    "# 강제로 예외를 발생\n",
    "print('# 강제로 예외를 발생시킨다.')\n",
    "circle.radius = -10"
   ]
  },
  {
   "cell_type": "markdown",
   "metadata": {},
   "source": [
    "#### **추상 클래스 사용하기**\n",
    "- 추상이란?: 공통 기능을 추상 클래스로 만들고, 각 세부기능은 해당 메서드에서 구현하는 것\n",
    "- Python과 Java의 추상클래스 공통점\n",
    "    - 추상클래스 내에 일반메서드와 추상메서드가 올 수 있다.\n",
    "    - 추상클래스는 객체생성이 불가능하다.\n",
    "    - 추상클래스는 반드시 자식클래스에 상속하고 자식클래스를 객체생성해서만 사용할 수 있다.\n",
    "- abc 라이브러리 사용해야함"
   ]
  },
  {
   "cell_type": "code",
   "execution_count": 21,
   "metadata": {},
   "outputs": [],
   "source": [
    "# 추상 클래스 선언하기\n",
    "from abc import *\n",
    "\n",
    "class Character(metaclass=ABCMeta):\n",
    "    @abstractmethod # 어노테이면 abstractmethod를 붙여줘야 추상메서드가됨.\n",
    "    def attack(self):\n",
    "        pass # 추상메서드기 때문에 실행부가 없음\n",
    "    \n",
    "    @abstractmethod # 추상메서드\n",
    "    def move(self):\n",
    "        pass\n",
    "    \n",
    "    def printCh(self): # 일반메서드\n",
    "        print('일반메서드')"
   ]
  },
  {
   "cell_type": "code",
   "execution_count": 22,
   "metadata": {},
   "outputs": [],
   "source": [
    "# 추상 클래스 상속하기\n",
    "class Elf(Character):\n",
    "    def attack(self):\n",
    "        print('practice the black art')\n",
    "        \n",
    "    def move(self):\n",
    "        print('fly')\n",
    "        \n",
    "class Human(Character):\n",
    "    def attack(self):\n",
    "        print('plunge a knife')\n",
    "        \n",
    "    def move(self):\n",
    "        print('run')"
   ]
  },
  {
   "cell_type": "code",
   "execution_count": 23,
   "metadata": {},
   "outputs": [
    {
     "name": "stdout",
     "output_type": "stream",
     "text": [
      "practice the black art\n",
      "fly\n",
      "일반메서드\n",
      "plunge a knife\n",
      "run\n"
     ]
    }
   ],
   "source": [
    "#  추상클래스 구현 객체 실행하기\n",
    "\n",
    "elf1 = Elf()\n",
    "human1 = Human()\n",
    "\n",
    "elf1.attack()\n",
    "elf1.move()\n",
    "elf1.printCh()\n",
    "\n",
    "human1.attack()\n",
    "human1.move()"
   ]
  },
  {
   "cell_type": "markdown",
   "metadata": {},
   "source": [
    "#### **special method**\n",
    "- __로 시작 __로 끝나는 특수 함수\n",
    "- 해당 메쏘드들을 구현하면, 커스텀 객체에 여러가지 파이썬 내장 함수나 연산자를 적용 가능\n",
    "- 오버라이딩 가능한 함수 목록은 아래 링크에서 참조\n",
    "\n",
    "    - https://docs.python.org/3/reference/datamodel.html\n",
    "    - https://docs.python.org/3/reference/datamodel.html#object.__add__\n",
    "\n",
    "파이썬은 객체 지향 언어입니다. 파이썬에서 모든 데이터들은 객체로 표현되거나 객체 사이의 관계로 표현됩니다. 여기서 미리 정의되어 있는 특별한 이름을 가진 메소드들을 재정의 함으로써 파이썬 인터프리터가 데이터 객체를 만들거나, 표현하거나, 연산을 하는데 도움을 줄 수 있습니다. 여러가지 Built-in 함수들이 처리할 연산을 정의함으로써, 동작이 마법과 같이 뾰로롱 처리한다고 해서 매직 메소드(Magic Method)라는 이름이 붙었고, 파이썬에서는 문서에서는 특별 메소드(Special method)라고 적혀있습니다. 언더스코어(_)가 두개가 붙는게 특징이기 때문에 Double UNDERscore Method를 줄여서 던더(DUNDER) 메소드라고 부르기도 합니다."
   ]
  },
  {
   "cell_type": "code",
   "execution_count": 24,
   "metadata": {},
   "outputs": [
    {
     "name": "stdout",
     "output_type": "stream",
     "text": [
      "25\n",
      "3\n",
      "4\n",
      "(3, 4)\n",
      "(2, 7)\n",
      "(5, 11)\n",
      "(1, -3)\n",
      "(9, 12)\n"
     ]
    }
   ],
   "source": [
    "# Point \n",
    "# 2차원 좌표평면 각 점(x, y) \n",
    "# 연산\n",
    "# 두점 의 덧셈, 뺄셈 (1, 2) + (3, 4) = (4, 6)\n",
    "# 한점과 숫자의 곱셈 (1,  2) * 3 = (3, 6)\n",
    "# 그 점의 길이 (0,0) 부터의 거리\n",
    "# x, y 값 가져오기\n",
    "# 출력하기\n",
    "\n",
    "class Point:\n",
    "    def __init__(self, x, y):\n",
    "        self.x = x\n",
    "        self.y = y \n",
    "        \n",
    "    def __add__(self, pt):\n",
    "        new_x = self.x + pt.x\n",
    "        new_y = self.y + pt.y\n",
    "        return Point(new_x, new_y)\n",
    "    \n",
    "    def __sub__(self, pt):\n",
    "        new_x = self.x - pt.x\n",
    "        new_y = self.y - pt.y\n",
    "        return Point(new_x, new_y)\n",
    "    \n",
    "    def __mul__(self, factor):\n",
    "        return Point(self.x * factor, self.y * factor)\n",
    "    \n",
    "    def __getitem__(self, index):\n",
    "        if index == 0:\n",
    "            return self.x\n",
    "        elif index == 1:\n",
    "            return self.y\n",
    "        else:\n",
    "            return -1\n",
    "    \n",
    "    def __len__(self):\n",
    "        return self.x ** 2 + self.y ** 2\n",
    "        \n",
    "    def __str__(self): # 출력용, 호출시  결과(커스텀)\n",
    "        return '({}, {})'.format(self.x, self.y)\n",
    "        \n",
    "p1 = Point(3, 4)\n",
    "p2 = Point(2, 7)\n",
    "\n",
    "a = 1 + 2\n",
    "p3 = p1 + p2\n",
    "p4 = p1 - p2\n",
    "\n",
    "# p5 = p1.multiply(3)\n",
    "p5 = p1 * 3\n",
    "\n",
    "print(len(p1))\n",
    "\n",
    "# p1[0] -> x\n",
    "# p1[1] -> y\n",
    "print(p1[0])\n",
    "print(p1[1])\n",
    "print(p1)\n",
    "print(p2)\n",
    "print(p3)\n",
    "print(p4)\n",
    "print(p5)"
   ]
  },
  {
   "cell_type": "markdown",
   "metadata": {},
   "source": [
    "**연습문제**\n",
    "- 복소수 클래스를 정의 해봅시다.\n",
    "- 덧셈, 뺄셈, 곱셈 연산자 지원\n",
    "- 길이 (복소수의 크기) 지원\n",
    "- 복소수 출력 '1 + 4j'와 같이 표현\n",
    "- 비교 연산 ==, != 지원\n",
    "- =, <= , <, > 연산 지원\n",
    "\n",
    "- 절대값 지원"
   ]
  },
  {
   "cell_type": "code",
   "execution_count": 25,
   "metadata": {},
   "outputs": [
    {
     "data": {
      "text/plain": [
       "5"
      ]
     },
     "execution_count": 25,
     "metadata": {},
     "output_type": "execute_result"
    }
   ],
   "source": [
    "import math\n",
    "class ComplexNumber:\n",
    "    def __init__(self, real, img):\n",
    "        self.real = real\n",
    "        self.img = img\n",
    "        \n",
    "    def __add__(self, cn):\n",
    "        return ComplexNumber(self.real + cn.real, self.img + cn.img)\n",
    "    \n",
    "    def __sub__(self, cn):\n",
    "        return ComplexNumber(self.real - cn.real, self.img - cn.img)\n",
    "    \n",
    "    def __mul__(self, x):\n",
    "        if type(x) == int:\n",
    "            return ComplexNumber(self.real * x, self.img * x)\n",
    "        elif type(x) == ComplexNumber:\n",
    "            return ComplexNumber(self.real * x.real - self.img * x.img, self.real * x.img + self.img * x.real)\n",
    "#            (a + bj) * (c + dj) = (ac - bd) + (ad + bc)j\n",
    "        \n",
    "    def __str__(self):\n",
    "        if self.img >= 0:\n",
    "            return '{} + {}j'.format(self.real, self.img)\n",
    "        else:\n",
    "            return '{} - {}j'.format(self.real, abs(self.img))\n",
    "        \n",
    "    def __eq__(self, cn):\n",
    "        return self.real == cn.real and self.img == cn.img\n",
    "    \n",
    "    def __ne__(self, cn):\n",
    "        return not (self.real == cn.real and self.img == cn.img)\n",
    "    \n",
    "    def __abs__(self):\n",
    "        return math.sqrt(self.real ** 2 + self.img ** 2)\n",
    "    \n",
    "    def __len__(self):\n",
    "        return self.real ** 2 + self.img ** 2\n",
    "    \n",
    "a = ComplexNumber(1, 2)\n",
    "b = ComplexNumber(3, 2)\n",
    "\n",
    "abs(a)\n",
    "len(a)"
   ]
  },
  {
   "cell_type": "markdown",
   "metadata": {},
   "source": [
    "#### **special method 종류**\n",
    "**1.객체의 생성과 초기화**\n",
    "\n",
    "- new(cls[, ...]) : 새로운 인스턴스를 만들 때 제일 처음으로 실행되는 메소드. 새로운 object를 반환해줘야합니다.\n",
    "\n",
    "- init(self[, ...]) : 인스턴스가 new로 생성되고 나서 호출되는 메서드입니다. 객체와 관련된 속성을 초기화 하고 싶을 때 사용되는 메서드\n",
    "\n",
    "- del(self) : 객체가 소멸 될때 해야할 일을 지정할 수 있습니다. del 키워드를 호출한다고 해서 del()이 바로 호출되지는 않습니다. 내부에 있는 레퍼런스 카운터가 0이 되면 소멸합니다. 객체 소멸시 파일을 닫아준다거나 할 때 사용할 수 있습니다.\n",
    "\n",
    "아래 예제는 NumBox라는 클래스를 만드는데 new를 통해서 인자가 하나도 들어오지 않을 경우는 객체를 생성하지 않고 None으로 반환합니다. 그리고 init를 재정의해서 클래스의 변수인 num을 초기화 시킵니다."
   ]
  },
  {
   "cell_type": "code",
   "execution_count": 26,
   "metadata": {},
   "outputs": [
    {
     "name": "stdout",
     "output_type": "stream",
     "text": [
      "<class 'NoneType'>\n",
      "10\n",
      "<class '__main__.NumBox'>\n"
     ]
    }
   ],
   "source": [
    "class NumBox:\n",
    "    def __new__(cls, *args, **kwargs):\n",
    "        if len(args) < 1:  # 인자가 들어오지 않은 경우\n",
    "            return None  # None을 반환\n",
    "        else:  # 인자가 들어온 경우\n",
    "            return super(NumBox, cls).__new__(cls)  # object를 반환\n",
    "\n",
    "    def __init__(self, num=None):\n",
    "        self.num = num  # 받은 인자 num을 인스턴스 변수로 지정\n",
    "\n",
    "    def __repr__(self):\n",
    "        return str(self.num)\n",
    " # 결과 \n",
    "a = NumBox()  # 인자가 없이 객체 생성\n",
    "print(type(a))\n",
    "b = NumBox(10)  # 인자를 받으면서 객체 생성\n",
    "print(b)\n",
    "print(type(b))\n"
   ]
  },
  {
   "cell_type": "markdown",
   "metadata": {},
   "source": [
    "- new는 인스턴스 초기 생성에 관련되어 있기 때문에 초기값을 조작하거나,\n",
    "- 싱글톤 패턴을 만들때 사용할 수 있습니다. 어떤 식으로 싱글톤을 만드는지는 레퍼런스에서 확인하세요.\n",
    "- https://www.python.org/download/releases/2.2.3/descrintro/#__new__"
   ]
  },
  {
   "cell_type": "markdown",
   "metadata": {},
   "source": [
    "**2.객체의 표현**\n",
    "\n",
    "- repr(self) : 객체를 나타내는 공식적인 문자열. repr()로 호출할 수 있습니다. 반환 타입은 string 이어야 합니다. __str과 달리 좀 더 명확함을 지향하고 있는 느낌입니다.\n",
    "\n",
    "- str(self) : 객체를 나타내는 비공식적인 문자열이지만 객체를 이해하기 쉽게 표한할 수 있는 문자열 입니다. repr 보다 사용자에 보기 쉬운 문자열을 출력하는 것에 지향점이 있습니다. str()로 호출할 수 있습니다. 마찬가지로 string타입의 문자열을 반환해야 합니다. repr()만 구현되어있고 str()이 구현되어있지 않은 경우에는 str()이 repr()을 불러오게 됩니다.\n",
    "\n",
    "- btyes(self) : 객체를 나타내는 byte 문자열입니다. bytes()로 호출할 수 있습니다.\n",
    "\n",
    "- format(self) : 객체를 나타내는 format을 지정하고 싶을 떄 사용합니다."
   ]
  },
  {
   "cell_type": "code",
   "execution_count": 27,
   "metadata": {},
   "outputs": [
    {
     "name": "stdout",
     "output_type": "stream",
     "text": [
      "A('Life is short, you need python')\n",
      "A('Life is short, you need python')\n",
      "A('Life is short, you need python')\n",
      "b'Life is short, you need python'\n",
      "This string: Life is short, you need python\n"
     ]
    }
   ],
   "source": [
    "class StrBox:\n",
    "    def __init__(self, string): \n",
    "        self.string = string\n",
    "    \n",
    "    def __repr__(self):\n",
    "        return \"A('{}')\".format(self.string)\n",
    "\n",
    "    def __bytes__(self):\n",
    "        return str.encode(self.string)\n",
    "\n",
    "    def __format__(self, format):\n",
    "        if format == 'this-string':\n",
    "            return \"This string: {}\".format(self.string)\n",
    "        return self.string\n",
    "\n",
    "# 실행 결과입니다. 각각 __str__()은 정의되어 있지 않지만 __repr__()을 대신 출력합니다. \n",
    "# eval()의 인자로 repr(obj)을 줌으로서 같은 객체를 만들 수도 있습니다.\n",
    "\n",
    "a = StrBox('Life is short, you need python')\n",
    "\n",
    "print(a)\n",
    "print(repr(a) )\n",
    "print(str(a))\n",
    "print(bytes(a))\n",
    "print(\"{:this-string}\".format(a))"
   ]
  }
 ],
 "metadata": {
  "kernelspec": {
   "display_name": "Python 3",
   "language": "python",
   "name": "python3"
  },
  "language_info": {
   "codemirror_mode": {
    "name": "ipython",
    "version": 3
   },
   "file_extension": ".py",
   "mimetype": "text/x-python",
   "name": "python",
   "nbconvert_exporter": "python",
   "pygments_lexer": "ipython3",
   "version": "3.7.6"
  }
 },
 "nbformat": 4,
 "nbformat_minor": 4
}
