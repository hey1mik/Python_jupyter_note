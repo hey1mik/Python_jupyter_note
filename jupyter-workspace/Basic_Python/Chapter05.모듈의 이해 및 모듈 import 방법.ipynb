{
 "cells": [
  {
   "cell_type": "markdown",
   "metadata": {},
   "source": [
    "### 학습목표\n",
    "1. module(library라고 할 수 있음)의 이해 및 module import 하기 (java에서 import하는 것처럼 python도 import함)"
   ]
  },
  {
   "cell_type": "markdown",
   "metadata": {},
   "source": [
    " + 파이썬은 모듈이라는 기능을 활용해 코드를 분리하고 공유함\n",
    " + 파이썬 파일 하나 자체가 모듈이라고 생각하면 됨.\n",
    " + 모듈은 여러 변수와 함수를 가지고 있는 집합체로, 크게 '표준모듈'과 '외부 모듈'로 나뉜다.\n",
    " + 파이썬에 기본적으로 내장되어 있는 모듈을 '표준모듈'이라고 한다.\n",
    " + 다른 사람들이 만들어서 공개한 모듈을 '외부 묘듈'이라고 한다.\n",
    " + 일반적으로 모듈을 가져오는 import구문은 코드 가장 위에 작성한다.\n",
    " + 표준모듈이 궁금할 때는 '파이썬 공식 문서'를 확인\n",
    " + [파이썬 공식문서](http://docs.python.org/3/library/index.html)\n",
    " \n",
    " ※ 파이썬의 모듈은 단순한 파이썬 파일이 아님. import 구문은 가장 먼저 현재 폴더에서 import 뒤에 적어 놓은 파일을 찾는다. 만약 하단의 코드와 같이 random 모듈을 import하고 파일이름을 random.py라고 생성하면 type오류가 발생함. random.py라는 이름으로 파일을 저장하고 실행하면 실제 파이썬이 제공하는 random모듈이 아니라, 같은 파일(random.py)을 읽어 문제가 발생, **따라서 모듈과 같은 이름으로 파일을 저장하지 않게 주의해야함!!!!!**\n",
    " \n",
    " ```python\n",
    "    # random.py로 저장\n",
    "    import random\n",
    "    print('# random 모듈 사용')\n",
    " ```"
   ]
  },
  {
   "cell_type": "markdown",
   "metadata": {},
   "source": [
    "### **모듈 임포트**\n",
    "+ 그동안 사용했던 함수들 처럼, 다양한 기능들이 미리 함수로 구현되어 모듈 형태로 제공\n",
    "+ 대표적으로 추후 과정에서 사용하게 될 아래의 모듈들이 존재\n",
    "\n",
    "+ request = HTTP 요청/ 응답 모듈\n",
    "+ numpy - 수치해석 모듈\n",
    "+ pandas - 데이터 분석 모듈\n"
   ]
  },
  {
   "cell_type": "markdown",
   "metadata": {},
   "source": [
    "#### import\n",
    "- import를 사용하여 해당 모듈 전체를 import"
   ]
  },
  {
   "cell_type": "code",
   "execution_count": 1,
   "metadata": {},
   "outputs": [],
   "source": [
    "import math"
   ]
  },
  {
   "cell_type": "code",
   "execution_count": 2,
   "metadata": {},
   "outputs": [
    {
     "data": {
      "text/plain": [
       "3.141592653589793"
      ]
     },
     "execution_count": 2,
     "metadata": {},
     "output_type": "execute_result"
    }
   ],
   "source": [
    "math.pi"
   ]
  },
  {
   "cell_type": "code",
   "execution_count": 7,
   "metadata": {},
   "outputs": [
    {
     "data": {
      "text/plain": [
       "1.0"
      ]
     },
     "execution_count": 7,
     "metadata": {},
     "output_type": "execute_result"
    }
   ],
   "source": [
    "math.cos(0)"
   ]
  },
  {
   "cell_type": "markdown",
   "metadata": {},
   "source": [
    "#### from import\n",
    "- 해당 모듈에서 특정한 타입만 import"
   ]
  },
  {
   "cell_type": "code",
   "execution_count": 8,
   "metadata": {},
   "outputs": [],
   "source": [
    "from math import pi\n",
    "from math import cos\n",
    "from math import pi, cos, sin"
   ]
  },
  {
   "cell_type": "code",
   "execution_count": 12,
   "metadata": {},
   "outputs": [
    {
     "data": {
      "text/plain": [
       "0.0"
      ]
     },
     "execution_count": 12,
     "metadata": {},
     "output_type": "execute_result"
    }
   ],
   "source": [
    "sin(0)"
   ]
  },
  {
   "cell_type": "markdown",
   "metadata": {},
   "source": [
    "#### \\* 임포트\n",
    "- 해당 모듈내에 정의된 모든 것을 import\n",
    "- 일반적으로 사용되지 않음\n",
    "- 다른 모듈에 이름이 중복된 함수가 있을 수 있음(식별자 이름에서 충돌 발생 가능)"
   ]
  },
  {
   "cell_type": "code",
   "execution_count": 13,
   "metadata": {},
   "outputs": [],
   "source": [
    "from math import *"
   ]
  },
  {
   "cell_type": "code",
   "execution_count": 15,
   "metadata": {},
   "outputs": [],
   "source": [
    "from math import cos"
   ]
  },
  {
   "cell_type": "markdown",
   "metadata": {},
   "source": [
    "#### as\n",
    "- 모듈 import시, alias(별명) 지정가능"
   ]
  },
  {
   "cell_type": "code",
   "execution_count": 17,
   "metadata": {},
   "outputs": [
    {
     "data": {
      "text/plain": [
       "20.085536923187668"
      ]
     },
     "execution_count": 17,
     "metadata": {},
     "output_type": "execute_result"
    }
   ],
   "source": [
    "import math as m\n",
    "m.cos(100)\n",
    "m.exp(3)"
   ]
  }
 ],
 "metadata": {
  "kernelspec": {
   "display_name": "Python 3",
   "language": "python",
   "name": "python3"
  },
  "language_info": {
   "codemirror_mode": {
    "name": "ipython",
    "version": 3
   },
   "file_extension": ".py",
   "mimetype": "text/x-python",
   "name": "python",
   "nbconvert_exporter": "python",
   "pygments_lexer": "ipython3",
   "version": "3.7.6"
  }
 },
 "nbformat": 4,
 "nbformat_minor": 4
}
