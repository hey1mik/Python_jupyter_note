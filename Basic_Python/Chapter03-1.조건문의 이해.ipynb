{
 "cells": [
  {
   "cell_type": "markdown",
   "metadata": {},
   "source": [
    "### 학습목표\n",
    " * 조건문의 이해 및 활용 (if)"
   ]
  },
  {
   "cell_type": "markdown",
   "metadata": {},
   "source": [
    "#### condition(조건문)\n",
    " + 특정 조건을 만족하는 경우에만 수행할 작업이 있는 경우 사용\n",
    " + 모든 조건은 boolean으로 표현 됨(예외 사항은 아래 배울 예정)\n",
    " + if, elif, else 키워드가 사용\n",
    " + 조건문의 경우 if, elif, else 블록에 종속된 코드는 들여쓰기로 표현 가능\n",
    " + 즉 아래코드에서와 같이, 조건문 아래에 들여쓰기 된 2줄의 코드만이 조건문의 조건에 따라 수행될 수도, 수행되지 않을 수도 있는 코드라고 할 수 있음\n",
    " + 들여쓰기 된 코드를 블록(block), 또는 코드블록이라고 함\n",
    " + python에서 모든 블록의 시작점의 마지막에는 :(콜론, colon) 추가가 필요\n",
    " \n",
    "```python\n",
    "if 6 > = 5:\n",
    "    print ('6 is greater than 5')\n",
    "    print('Yeah, it is true')\n",
    "  print('This code doenst not belong to if statements')\n",
    "```"
   ]
  },
  {
   "cell_type": "code",
   "execution_count": 6,
   "metadata": {},
   "outputs": [
    {
     "name": "stdout",
     "output_type": "stream",
     "text": [
      "6 is greater than 5\n",
      "Yeah, it is true\n",
      "it is really true\n",
      "This code does not belong to if statements\n"
     ]
    }
   ],
   "source": [
    "if 6 > 5:\n",
    "    print ('6 is greater than 5')\n",
    "    print('Yeah, it is true')\n",
    "    print('it is really true')\n",
    "\n",
    "print('This code does not belong to if statements')\n"
   ]
  },
  {
   "cell_type": "markdown",
   "metadata": {},
   "source": [
    "**java vs python 조건문 비교 예시**\n",
    "\n",
    "#JAVA\n",
    "\n",
    "if(조건){\n",
    "\n",
    "}else if(조건){\n",
    "\n",
    "} else {\n",
    "\n",
    "}\n",
    "\n",
    "#Python\n",
    "\n",
    "if 조건 :\n",
    "\n",
    "   pass\n",
    "   \n",
    "elif 조건:\n",
    "\n",
    "    pass\n",
    "    \n",
    "else :\n",
    "\n",
    "    pass\n",
    "    \n",
    "    \n",
    "자바랑 좀 달라서 선행절의 if문에 채워져있지 않으면 그 아랫것도 실행이 안되는데,\n",
    "그런 경우 쓸 수 있는 게 pass이다"
   ]
  },
  {
   "cell_type": "markdown",
   "metadata": {},
   "source": [
    "if 5 > 3:\n",
    "    pass"
   ]
  },
  {
   "cell_type": "code",
   "execution_count": 7,
   "metadata": {},
   "outputs": [],
   "source": [
    "a = 10\n",
    "b = 8\n",
    "c = 11"
   ]
  },
  {
   "cell_type": "code",
   "execution_count": 9,
   "metadata": {},
   "outputs": [],
   "source": [
    "if(a == 10 or b ==9) and c == 12:\n",
    "    print('that is true')"
   ]
  },
  {
   "cell_type": "code",
   "execution_count": 11,
   "metadata": {},
   "outputs": [],
   "source": [
    "if not a == 10:\n",
    "    print('a is ten')"
   ]
  },
  {
   "cell_type": "markdown",
   "metadata": {},
   "source": [
    "#### if의 조건이 bool이 아닌 경우\n",
    "    * 일반적으로는 조건문에는 bool이 주로 위치함\n",
    "    * 하지만, 정수, 실수, 문자열 리스트 등 기본 타입도 조건에 사용 가능\n",
    "    * False로 간주되는 값 (각 타입의 기본값)\n",
    "        * None\n",
    "        * 0\n",
    "        * 0.0\n",
    "        * ''\n",
    "        * [] -> 빈 리스트\n",
    "        * () -> 빈 튜플\n",
    "        * {} - > 빈딕셔너리\n",
    "        * set() -> 빈 집합\n",
    "    * 그 밖에는 모두 True로 간주    "
   ]
  },
  {
   "cell_type": "code",
   "execution_count": 12,
   "metadata": {},
   "outputs": [],
   "source": [
    "a = []\n",
    "if a:\n",
    "    print('print')\n"
   ]
  },
  {
   "cell_type": "markdown",
   "metadata": {},
   "source": [
    "#### 중첩 조건문(nested condition)\n",
    "    - 조건문의 경우 중첩하여 작성 가능\n",
    "    - 중첩의 의미는 depth(길이)로 생각할 수 있으며, depth의 제한은 없음"
   ]
  },
  {
   "cell_type": "code",
   "execution_count": 13,
   "metadata": {},
   "outputs": [
    {
     "name": "stdout",
     "output_type": "stream",
     "text": [
      "a is ten and b is not 8\n"
     ]
    }
   ],
   "source": [
    "a = 10\n",
    "b = 9\n",
    "c = 8\n",
    "\n",
    "if a == 10:\n",
    "    if c == 8:\n",
    "        if b == 8:\n",
    "            print('a is ten and b is 8')\n",
    "        else:\n",
    "            print('a is ten and b is not 8')"
   ]
  }
 ],
 "metadata": {
  "kernelspec": {
   "display_name": "Python 3",
   "language": "python",
   "name": "python3"
  },
  "language_info": {
   "codemirror_mode": {
    "name": "ipython",
    "version": 3
   },
   "file_extension": ".py",
   "mimetype": "text/x-python",
   "name": "python",
   "nbconvert_exporter": "python",
   "pygments_lexer": "ipython3",
   "version": "3.7.6"
  }
 },
 "nbformat": 4,
 "nbformat_minor": 4
}
