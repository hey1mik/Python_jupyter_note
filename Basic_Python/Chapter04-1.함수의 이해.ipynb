{
 "cells": [
  {
   "cell_type": "markdown",
   "metadata": {},
   "source": [
    "### 학습목표\n",
    "1. 함수의 이해\n",
    "2. 함수 구현 및 사용 숙지"
   ]
  },
  {
   "cell_type": "markdown",
   "metadata": {},
   "source": [
    "### 함수?\n",
    "* 지금까지 무심코 코드에서 사용된 많은 함수들이 존재합니다.\n",
    "* 예를 들면, sum, len, range같은 함수들이 있죠.<= **내장 함수**라고 함!\n",
    "* 함수란 우리가 알고 있는 개념처럼 주어진 입력(input)에 대해서 의도된 출력(output)을 전달하는 역할을 합니다.\n",
    "\n",
    "* 그렇다면, 하나씩 살펴보겠습니다.\n",
    "> range 함수는 정수를 입력으로 전달하면 [0,정수] 로 이루어진 리스트를 생성하는 역할을 합니다.\n",
    "> sum 함수는 리스트, 튜플 등을 입력으로 전달하면 전체 아이템의 합을 출력으로 전달하는 역할을 합니다.\n",
    "> len 함수는 리스트, 튜플 등을 입력으로 전달하면 아이템의 개수를 출력으로 전달하는 역할을 합니다.\n",
    "\n",
    "* 그리고, 위의 함수들을 모두 python 내부에 이미 정의(구현)이 되어 있습니다.\n",
    "* 위와 같은 함수를 내장 함수(built-in function)이라고 합니다."
   ]
  },
  {
   "cell_type": "code",
   "execution_count": 2,
   "metadata": {},
   "outputs": [
    {
     "name": "stdout",
     "output_type": "stream",
     "text": [
      "4\n",
      "10\n"
     ]
    }
   ],
   "source": [
    "#내장 함수의 예\n",
    "a = [1,2,3,4]\n",
    "length = len(a)\n",
    "print(length)\n",
    "\n",
    "summation = sum(a)\n",
    "print(summation)"
   ]
  },
  {
   "cell_type": "markdown",
   "metadata": {},
   "source": [
    "#### ** 함수의 정의**\n",
    "+ 정의 시 최초의 def 키워드 사용\n",
    "+ argument 정의 (함수에 입력으로 전달하는 값을 의미, argument 또는 parameter라고 함)\n",
    "+ : (콜론) => 함수 역시 코드 블록이기 때문에 콜론(:) 필요\n",
    "+ body (함수의 구현 부분, 함수 역시 코드 블록이기 때문에 들여쓰기 된 부분까지 함수의 코드블록으로 인지함)\n",
    "    - 함수를 호출한 코드(caller)로 함수가 해당 기능을 수행하고 완료된 값(output)를 전달하기 위해 return 키워드 사용\n",
    "    -즉, return 이후에 오는 값을 caller로 전달\n",
    "+ 반환값 없을 때 return만 단독으로 사용하면 메서드 종료하라는 뜻\n",
    "+ 함수의 네이밍 역시 중요\n",
    "    - 즉, 어떤 기능을 하는 함수인지 이름으로 최대한 나타날 수 있게 해야함\n",
    "    - e.g) get_a (x) => 뭐여 이게?! get_student_name(o) => 아 학생 이름을 짓는다는거군"
   ]
  },
  {
   "cell_type": "code",
   "execution_count": 3,
   "metadata": {},
   "outputs": [],
   "source": [
    "def add(x,y):\n",
    "    n = x+y\n",
    "    return n"
   ]
  },
  {
   "cell_type": "code",
   "execution_count": 5,
   "metadata": {},
   "outputs": [
    {
     "name": "stdout",
     "output_type": "stream",
     "text": [
      "330\n"
     ]
    }
   ],
   "source": [
    "i = 3\n",
    "c = add(30,300)\n",
    "\n",
    "print(c)"
   ]
  },
  {
   "cell_type": "markdown",
   "metadata": {},
   "source": [
    "- JAVA와는 달리 메서드 오버로딩이 되지 않음\n",
    "- error는 발생되지 않지만 호출해서 사용하면 호출된 함수와 동일한 함수만 사용가능"
   ]
  },
  {
   "cell_type": "code",
   "execution_count": 9,
   "metadata": {},
   "outputs": [
    {
     "name": "stdout",
     "output_type": "stream",
     "text": [
      "메서드 오버로딩 민꽁 6\n",
      "메서드 오버로딩 초롱 5\n",
      "메서드 오버로딩 체리 3\n"
     ]
    }
   ],
   "source": [
    "class TestClass:\n",
    "    def __inint__(self): #this를 쓸 수 있게 해주는 매개변수. 클래스 내에 있는 메서드들은 무조건 self라는 매개변수를 첫번째로 받아야함!!\n",
    "        print('기본 생성자입니다.') \n",
    "    def __inint__(self, name):\n",
    "        print('생성자 오버로딩,', name)\n",
    "    #파이썬은 메서드 오버로딩이 안됨! 그래서 앞에 있는 똑같은 이름의 메서드는 걍 무시하고\n",
    "    #맨 뒤에 있는 이름의 메서드만 실행을 함.\n",
    "    \n",
    "    \n",
    "    def setData(self, nick):\n",
    "        print('메서드 오버로딩', nick)#얘는 무시됨\n",
    "    def setData(self, nick, code):\n",
    "        print('메서드 오버로딩', nick, code) #얘만 실행됨!!\n",
    "        \n",
    "t1 = TestClass()\n",
    "#t2 = TestClass('초롱') #error 발생(class 자체에는 매개변수가 붙지 않음.)\n",
    "\n",
    "t1.setData('민꽁',6) #t1.setData('민꽁') 만 써 놓으면 code를 보내라는 error가 뜬다.\n",
    "t1.setData('초롱',5)\n",
    "t1.setData('체리',3)"
   ]
  },
  {
   "cell_type": "markdown",
   "metadata": {},
   "source": [
    "#### **함수의 사용(호출)**\n",
    "    + 함수명(파라미터1, 파라미터2, ... 파라미터n)\n",
    "    + 위와 같이 정의 된 함수의 이름과 전달되는 parameter(인자)를 괄호안에 전달하여 함수를 호출\n",
    "    + 함수가 호출되면 실행의 흐름이 호출자(caller)에서 함수(caller)로 변경됨\n",
    "    \n",
    "    + 함수의 입력(인풋) 파라미터(parameter), 아규먼트(argument)라고도 함"
   ]
  },
  {
   "cell_type": "code",
   "execution_count": 10,
   "metadata": {},
   "outputs": [
    {
     "name": "stdout",
     "output_type": "stream",
     "text": [
      "70\n"
     ]
    }
   ],
   "source": [
    "c = add(30, 40)\n",
    "print(c)"
   ]
  },
  {
   "cell_type": "markdown",
   "metadata": {},
   "source": [
    "#### **함수 네이밍(naming)**\n",
    "    + 함수 이름으로부터 기능이 명시\n",
    "    + 의미와 반대되거나 맞지 않는 이름은 사용금지"
   ]
  },
  {
   "cell_type": "code",
   "execution_count": 12,
   "metadata": {},
   "outputs": [
    {
     "name": "stdout",
     "output_type": "stream",
     "text": [
      "1\n"
     ]
    }
   ],
   "source": [
    "def substract(x,y):\n",
    "    sub = x - y\n",
    "    return sub\n",
    "\n",
    "print (substract(4,3))"
   ]
  },
  {
   "cell_type": "markdown",
   "metadata": {},
   "source": [
    "#### **parameter(argument) (인자)**\n",
    "+ 함수에 전달되는 입력(input)\n",
    "+ 입력이 필요하지 않을 수도, 1개의 입력만 있을 수도, 여러개의 입력이 존재할 수도 있음\n",
    "+ 파라미터로 int, string, float, booln, list, dict 등등 어떤 파이썬 객체도 전달 가능\n",
    "+ 심지어, 함수도 함수의 파라미터로 전달 가능\n",
    "+ python의 경우, 타입 명시가 없기 때문에 함수 생성 시 의도된 파라미터의 타입에 맞게 입력을 전달하는 것이 중요\n",
    "+ 또한 파라미터를 전달 할 때, 정의된 순서에 따라 값을 전달하는 것이 중요"
   ]
  },
  {
   "cell_type": "code",
   "execution_count": 14,
   "metadata": {},
   "outputs": [
    {
     "name": "stdout",
     "output_type": "stream",
     "text": [
      "30\n"
     ]
    }
   ],
   "source": [
    "def substract(x, y):\n",
    "    sub = x - y\n",
    "    return sub\n",
    "\n",
    "a = substract(100,70)\n",
    "print(a)"
   ]
  },
  {
   "cell_type": "markdown",
   "metadata": {},
   "source": [
    " #### Deault parameter(기본 인자) <자바에는 없는 내용! 잘 기억해두자!\n",
    " + 함수의 파라미터에 기본값 지정 가능\n",
    " + 간혹 함수의 첫번째 매개변수로 self를 받는 경우가 있는데, Class 내에 정의 된 함수는 반드시 self를 첫 매개변수로 받아야함\n",
    " + 파라미터를 명시하지 않을 경우, 지정된 기본값으로 대체\n",
    " + 모두 기본값이 정해진 상태에서는 함수 호출 시 매개변수에 해당 변수의 값을 넣을 수 있음\n",
    " \n",
    " ```python\n",
    "   def add(x=0, y=0, z=0) #가능\n",
    "        a = x + y + z\n",
    "        return a\n",
    "   add(y=10) ```\n",
    "\n",
    "    + 디폴트 인자는 매개변수 순서가 **뒤에서부터** 사용 가능, 처음이나 가운데들은 불가능!\n",
    "```python\n",
    "   def add(x=0, y, z=0) # error 발생\n",
    "        a = x+y+z\n",
    "        return a\n",
    "   add(y=10)```"
   ]
  },
  {
   "cell_type": "code",
   "execution_count": 16,
   "metadata": {},
   "outputs": [
    {
     "data": {
      "text/plain": [
       "25"
      ]
     },
     "execution_count": 16,
     "metadata": {},
     "output_type": "execute_result"
    }
   ],
   "source": [
    "def add(x=5, y=5, z=10):\n",
    "    a = x + y + z\n",
    "    return a\n",
    "add(y=10)"
   ]
  },
  {
   "cell_type": "code",
   "execution_count": 19,
   "metadata": {},
   "outputs": [],
   "source": [
    "## def test(a, b=3, c):\n",
    "##        print(a, b, c)\n",
    "## test(10, 20, 1)    "
   ]
  },
  {
   "cell_type": "markdown",
   "metadata": {},
   "source": [
    "#### **keyword parameter(키워드 파라미터)**\n",
    " + 파이썬의 경우, 파라미터에 값을 전달 할 때, 파라미터의 이름을 명시하여 전달 가능\n",
    " + 파라미터 이름을 사용하지 않을 경우, 기본적으로 순서에 맞게 전달"
   ]
  },
  {
   "cell_type": "markdown",
   "metadata": {},
   "source": [
    "#### **return(리턴)**\n",
    "   + 기본적으로 함수의 종료를 명시\n",
    "       + return 옆에 값이나 수식이 있다면 해당 값을 호출자(caller)에게 반환(전달)\n",
    "       + return 만 존재하면 None 반환\n",
    "       + return이 없는 경우, 기본적으로 함수 코드 블록이 종료되면 종료로 간주, 이때도 None반환\n",
    "       + return문 다음에 오는 코드는 실행이 안됨(Error 발생은 안하고 실행만 안됨) "
   ]
  },
  {
   "cell_type": "code",
   "execution_count": null,
   "metadata": {},
   "outputs": [],
   "source": [
    "def weird_multiply(x,y):\n",
    "    if x > 10\n",
    "        return x * y\n",
    "    \n",
    "    print(x + y)\n",
    "    return (x + 2) * y\n",
    "\n"
   ]
  },
  {
   "cell_type": "markdown",
   "metadata": {},
   "source": [
    "#### **multiple return (복수값 반환)**\n",
    "+ tuple반환을 하여 복수개의 값 리턴 가능"
   ]
  },
  {
   "cell_type": "code",
   "execution_count": 22,
   "metadata": {},
   "outputs": [
    {
     "name": "stdout",
     "output_type": "stream",
     "text": [
      "23 60\n",
      "(23, 60)\n"
     ]
    }
   ],
   "source": [
    "def add_mul(x,y):\n",
    "    s = x + y\n",
    "    m = x * y\n",
    "    \n",
    "    return s, m \n",
    "\n",
    "a, b = add_mul(20,3)\n",
    "c = add_mul(20,3)\n",
    "\n",
    "print(a,b) # tubple을 unpacking하여 각각 값을 따로따로 받음\n",
    "print(c) #tuple로 값을 받음"
   ]
  },
  {
   "cell_type": "markdown",
   "metadata": {},
   "source": [
    "#### **variable scope(변수의 범위)**\n",
    "+ 변수가 참조 가능한 코드상의 범위를 명시\n",
    "+ 함수내의 변수는 자신이 속한 코드 블록이 종료되면 소멸됨\n",
    "+ 이렇게 특정 코드 블록에서 선언된 변수를 **지역변수(local variable)**이라고 함\n",
    "+ 반대로 가장 상단에서 정의되어 프로그램 종료 전까지 유지되는 변수를 **전역변수(global variable)**라고 함\n",
    "+ 같은 이름의 지역변수와 전역변수가 존재할 경우, 지역변수의 우선순위가 더 높음"
   ]
  },
  {
   "cell_type": "code",
   "execution_count": 26,
   "metadata": {},
   "outputs": [
    {
     "name": "stdout",
     "output_type": "stream",
     "text": [
      "운이\n"
     ]
    }
   ],
   "source": [
    "name = '혜원'\n",
    "\n",
    "def name_print():\n",
    "        name = '운이'\n",
    "        print(name)\n",
    "        \n",
    "        \n",
    "name_print()"
   ]
  },
  {
   "cell_type": "markdown",
   "metadata": {},
   "source": [
    "#### **함수안에서 함수 밖의 전역변수를 변경하는 방법**"
   ]
  },
  {
   "cell_type": "code",
   "execution_count": 29,
   "metadata": {},
   "outputs": [
    {
     "name": "stdout",
     "output_type": "stream",
     "text": [
      "1\n",
      "4\n"
     ]
    }
   ],
   "source": [
    "# 1. return을 사용하는 방법\n",
    "a = 1\n",
    "print(a)\n",
    "\n",
    "def vartest(a):\n",
    "    a = a + 1\n",
    "    return a\n",
    "\n",
    "a = vartest(3)\n",
    "print(a)"
   ]
  },
  {
   "cell_type": "code",
   "execution_count": 31,
   "metadata": {},
   "outputs": [
    {
     "name": "stdout",
     "output_type": "stream",
     "text": [
      "1\n",
      "2\n"
     ]
    }
   ],
   "source": [
    "## 2.global을 사용하는 방법\n",
    "a = 1\n",
    "print(a)\n",
    "\n",
    "def vartest():\n",
    "    global a # 전역변수 a를 지칭하다고 선언을 해야함.\n",
    "    a = a+1\n",
    "\n",
    "vartest()\n",
    "print(a)"
   ]
  },
  {
   "cell_type": "markdown",
   "metadata": {},
   "source": [
    "#### **variable length argument(가변길이 인자)**\n",
    "- 전달되는 파라미터의 개수가 고정적이지 않은 경우 사용\n",
    "- e.g)\n",
    "    - print 함수\n",
    "    - format 함수\n",
    "\n",
    "> ***args** => 값만 보냄 tuple로 감, ****kwargs**=>키랑 값이랑 같이감. 그래서 dict로감.\n",
    "> ***args** : 파라미터를 튜플의 형태로 전달\n",
    "> ****kwargs** : 파라미터를 딕셔너리 형태로 전달(네임드 파라미터)"
   ]
  },
  {
   "cell_type": "code",
   "execution_count": 35,
   "metadata": {},
   "outputs": [
    {
     "name": "stdout",
     "output_type": "stream",
     "text": [
      "10\n",
      "30\n",
      "43\n",
      "50\n",
      "60\n",
      "70\n"
     ]
    }
   ],
   "source": [
    "def test(*args): #arguments -> 얘는 튜플로 감.\n",
    "    for item in args:\n",
    "        print(item)\n",
    "\n",
    "test(10,30,43,50,60, 70)"
   ]
  },
  {
   "cell_type": "markdown",
   "metadata": {},
   "source": [
    "#### **keyword parameter(키워드 파라미터)**\n",
    "- \\**가 붙은 경우에는 키워드 파라미터로 인식\n",
    "- 즉 함수 호출 시, 파라미터의 이름과 값을 함께 전달 가능 "
   ]
  },
  {
   "cell_type": "code",
   "execution_count": 44,
   "metadata": {},
   "outputs": [
    {
     "name": "stdout",
     "output_type": "stream",
     "text": [
      "key: a , value: 1\n"
     ]
    }
   ],
   "source": [
    "def test2(**kwargs): #keyword arguments\n",
    "    for key, value in kwargs.items():\n",
    "        print('key:',key,', value:',value)\n",
    "        \n",
    "test2(a=1)"
   ]
  },
  {
   "cell_type": "markdown",
   "metadata": {},
   "source": [
    "* 가변길이 함수의 대표적인 예\n",
    " **문자열 포맷 함수**\n",
    " - 여러가지 값과 포맷을 이용하여 문자열을 정의할 수 있는 함수\n",
    " - {} placeholder를 문자열 내에 위치 시킨 후, 해당 위치에 format함수로 전달된 값으로 대체하여 문자열 생성\n",
    " - 포맷 구성은 다음 링크 참조 : https://pyformat.info/"
   ]
  },
  {
   "cell_type": "code",
   "execution_count": 48,
   "metadata": {},
   "outputs": [
    {
     "name": "stdout",
     "output_type": "stream",
     "text": [
      "오늘 온도: 40도, 강수확률은: 40% 내일온도: 23도\n"
     ]
    }
   ],
   "source": [
    "a = '오늘 온도: {today_temp}도, 강수확률은: {today_prob}% 내일온도: {tomorrow_temp}도'.format(today_temp=40, today_prob=40,  tomorrow_temp=23)\n",
    "\n",
    "print(a)"
   ]
  }
 ],
 "metadata": {
  "kernelspec": {
   "display_name": "Python 3",
   "language": "python",
   "name": "python3"
  },
  "language_info": {
   "codemirror_mode": {
    "name": "ipython",
    "version": 3
   },
   "file_extension": ".py",
   "mimetype": "text/x-python",
   "name": "python",
   "nbconvert_exporter": "python",
   "pygments_lexer": "ipython3",
   "version": "3.7.6"
  }
 },
 "nbformat": 4,
 "nbformat_minor": 4
}
